{
 "cells": [
  {
   "cell_type": "code",
   "execution_count": 1,
   "metadata": {},
   "outputs": [],
   "source": [
    "import numpy as np\n",
    "import seaborn as sns\n",
    "import matplotlib.pyplot as plt\n",
    "import os\n",
    "%matplotlib inline\n",
    " \n",
    "from tensorflow.keras.preprocessing.image import ImageDataGenerator\n",
    "from tensorflow.keras.layers import Dense, Input, Dropout,Flatten, Conv2D\n",
    "from tensorflow.keras.layers import BatchNormalization, Activation, MaxPool2D, MaxPooling2D\n",
    "from tensorflow.keras.models import Model, Sequential\n",
    "from tensorflow.keras.optimizers import SGD\n",
    "from tensorflow.keras.callbacks import ModelCheckpoint, ReduceLROnPlateau, EarlyStopping\n",
    "from tensorflow.keras.utils import plot_model\n",
    "import cv2\n",
    "from keras import optimizers\n",
    " \n",
    "from IPython.display import SVG, Image\n",
    "from livelossplot import PlotLossesKerasTF\n",
    "import tensorflow as tf"
   ]
  },
  {
   "cell_type": "code",
   "execution_count": 2,
   "metadata": {},
   "outputs": [
    {
     "name": "stdout",
     "output_type": "stream",
     "text": [
      "1126 A images\n",
      "1010 B images\n",
      "1144 C images\n",
      "1196 D images\n",
      "957 E images\n",
      "1204 F images\n",
      "1090 G images\n",
      "1013 H images\n",
      "1162 I images\n",
      "1114 K images\n",
      "1241 L images\n",
      "1055 M images\n",
      "1151 N images\n",
      "1196 O images\n",
      "1088 P images\n",
      "1279 Q images\n",
      "1294 R images\n",
      "1199 S images\n",
      "1186 T images\n",
      "1161 U images\n",
      "1082 V images\n",
      "1225 W images\n",
      "1164 X images\n",
      "1118 Y images\n"
     ]
    }
   ],
   "source": [
    "path = 'C:/Users/bijes/Downloads/Downloads/Dataset-20210307T161010Z-001/Dataset/Training/'\n",
    "\n",
    "for img_class in os.listdir(\"C:/Users/bijes/Downloads/Dataset-20210307T161010Z-001/Dataset/Training/\"):\n",
    "    print(str(len(os.listdir(\"C:/Users/bijes/Downloads/Dataset-20210307T161010Z-001/Dataset/Training/\" + img_class))) + \" \" + img_class + \" images\")"
   ]
  },
  {
   "cell_type": "code",
   "execution_count": 3,
   "metadata": {},
   "outputs": [
    {
     "name": "stdout",
     "output_type": "stream",
     "text": [
      "331 A images\n",
      "432 B images\n",
      "310 C images\n",
      "245 D images\n",
      "498 E images\n",
      "247 F images\n",
      "348 G images\n",
      "436 H images\n",
      "288 I images\n",
      "331 K images\n",
      "209 L images\n",
      "394 M images\n",
      "291 N images\n",
      "246 O images\n",
      "347 P images\n",
      "164 Q images\n",
      "144 R images\n",
      "246 S images\n",
      "248 T images\n",
      "266 U images\n",
      "346 V images\n",
      "206 W images\n",
      "267 X images\n",
      "332 Y images\n"
     ]
    }
   ],
   "source": [
    "for img_class in os.listdir(\"C:/Users/bijes/Downloads/Dataset-20210307T161010Z-001/Dataset/Test/\"):\n",
    "    print(str(len(os.listdir(\"C:/Users/bijes/Downloads/Dataset-20210307T161010Z-001/Dataset/Test/\" + img_class))) + \" \" + img_class + \" images\")"
   ]
  },
  {
   "cell_type": "code",
   "execution_count": 6,
   "metadata": {},
   "outputs": [
    {
     "name": "stdout",
     "output_type": "stream",
     "text": [
      "Found 27455 images belonging to 24 classes.\n",
      "Found 7172 images belonging to 24 classes.\n"
     ]
    }
   ],
   "source": [
    "img_size_train = 28\n",
    "img_size = 28\n",
    "batch_size = 32\n",
    "\n",
    "datagen_train = ImageDataGenerator(horizontal_flip=True)\n",
    "\n",
    "train_generator = datagen_train.flow_from_directory(\"C:/Users/bijes/Downloads/Dataset-20210307T161010Z-001/Dataset/Training/\",\n",
    "                                                    target_size=(img_size_train,img_size_train),\n",
    "                                                    color_mode=\"grayscale\",\n",
    "                                                    batch_size=batch_size,\n",
    "                                                    class_mode='categorical',\n",
    "                                                    shuffle=True)\n",
    "\n",
    "datagen_validation = ImageDataGenerator(horizontal_flip=True)\n",
    "validation_generator = datagen_validation.flow_from_directory(\"C:/Users/bijes/Downloads/Dataset-20210307T161010Z-001/Dataset/Test/\",\n",
    "                                                    target_size=(img_size,img_size),\n",
    "                                                    color_mode=\"grayscale\",\n",
    "                                                    batch_size=batch_size,\n",
    "                                                    class_mode='categorical',\n",
    "                                                    shuffle=True)"
   ]
  },
  {
   "cell_type": "code",
   "execution_count": 7,
   "metadata": {},
   "outputs": [
    {
     "name": "stdout",
     "output_type": "stream",
     "text": [
      "Model: \"sequential_1\"\n",
      "_________________________________________________________________\n",
      "Layer (type)                 Output Shape              Param #   \n",
      "=================================================================\n",
      "conv2d_3 (Conv2D)            (None, 26, 26, 32)        320       \n",
      "_________________________________________________________________\n",
      "max_pooling2d_3 (MaxPooling2 (None, 13, 13, 32)        0         \n",
      "_________________________________________________________________\n",
      "conv2d_4 (Conv2D)            (None, 11, 11, 64)        18496     \n",
      "_________________________________________________________________\n",
      "max_pooling2d_4 (MaxPooling2 (None, 6, 6, 64)          0         \n",
      "_________________________________________________________________\n",
      "conv2d_5 (Conv2D)            (None, 4, 4, 128)         73856     \n",
      "_________________________________________________________________\n",
      "max_pooling2d_5 (MaxPooling2 (None, 2, 2, 128)         0         \n",
      "_________________________________________________________________\n",
      "flatten_1 (Flatten)          (None, 512)               0         \n",
      "_________________________________________________________________\n",
      "dense_2 (Dense)              (None, 512)               262656    \n",
      "_________________________________________________________________\n",
      "dropout_1 (Dropout)          (None, 512)               0         \n",
      "_________________________________________________________________\n",
      "dense_3 (Dense)              (None, 24)                12312     \n",
      "=================================================================\n",
      "Total params: 367,640\n",
      "Trainable params: 367,640\n",
      "Non-trainable params: 0\n",
      "_________________________________________________________________\n"
     ]
    }
   ],
   "source": [
    "model = Sequential()\n",
    "\n",
    "model.add(Conv2D(32, (3,3), input_shape=(28, 28, 1), activation='relu'))\n",
    "model.add(MaxPooling2D(pool_size=(2, 2), strides=(2, 2), padding='same'))\n",
    "\n",
    "model.add(Conv2D(64, (3,3), activation='relu'))\n",
    "model.add(MaxPooling2D(pool_size=(2, 2), strides=(2, 2), padding='same'))\n",
    "\n",
    "model.add(Conv2D(128, (3,3), activation='relu'))\n",
    "model.add(MaxPooling2D(pool_size=(2, 2), strides=(2, 2), padding='same'))\n",
    "\n",
    "model.add(Flatten())\n",
    "\n",
    "model.add(Dense(512, activation='relu'))\n",
    "model.add(Dropout(0.2))\n",
    "\n",
    "model.add(Dense(24, activation='softmax'))\n",
    "\n",
    "#opt = Adam(lr=0.001, beta_1=0.9, beta_2=0.999, epsilon=1e-7)\n",
    "#model.compile(optimizer=opt, loss='categorical_crossentropy', metrics=['accuracy'])\n",
    "sgd = optimizers.SGD(lr=1e-2)\n",
    "model.compile(loss='categorical_crossentropy', optimizer=sgd, metrics=['accuracy'])\n",
    "\n",
    "model.summary()"
   ]
  },
  {
   "cell_type": "code",
   "execution_count": 8,
   "metadata": {},
   "outputs": [
    {
     "data": {
      "image/png": "[encoded data removed]",
      "text/plain": [
       "<Figure size 864x576 with 2 Axes>"
      ]
     },
     "metadata": {
      "needs_background": "light"
     },
     "output_type": "display_data"
    },
    {
     "name": "stdout",
     "output_type": "stream",
     "text": [
      "accuracy\n",
      "\ttraining         \t (min:    0.080, max:    0.999, cur:    0.999)\n",
      "\tvalidation       \t (min:    0.122, max:    0.886, cur:    0.866)\n",
      "Loss\n",
      "\ttraining         \t (min:    0.002, max:    3.209, cur:    0.004)\n",
      "\tvalidation       \t (min:    0.630, max:    2.962, cur:    0.862)\n",
      "\n",
      "Epoch 00015: val_accuracy did not improve from 0.88602\n"
     ]
    }
   ],
   "source": [
    "epochs = 15\n",
    "steps_per_epoch = train_generator.n//train_generator.batch_size\n",
    "validation_steps = validation_generator.n//validation_generator.batch_size\n",
    "\n",
    "#reduce_lr = ReduceLROnPlateau(monitor='val_loss', factor=0.1,\n",
    "#                              patience=2, min_lr=0.00001, mode='auto')\n",
    "#reduce_lr = ReduceLROnPlateau(monitor='val_loss', factor=0.2, patience=1, min_lr=0.0005)\n",
    "#checkpoint = ModelCheckpoint('sign_lan.h5',monitor ='val_acc',verbose=1,save_best_only=True,mode='max')\n",
    "#checkpoint = ModelCheckpoint('sign_lan.h5',monitor ='val_acc',verbose=1,save_best_only=True,mode='max')\n",
    "#earlystop = EarlyStopping(monitor = 'val_acc',verbose=1,mode='max')\n",
    "checkpoint = ModelCheckpoint(\"model_weights_1.h5\", monitor='val_accuracy', save_best_only=True, mode='max', verbose=1)\n",
    "# history = model.fit_generator(generator = train_datagen.flow(x_train,y_train,batch_size=32),\n",
    "#                               validation_data = val_datagen.flow(x_test,y_test),epochs=15,verbose=1)\n",
    "\n",
    "#earlystop = EarlyStopping(monitor = 'val_acc',verbose=1,mode='max')\n",
    "\n",
    "callbacks = [PlotLossesKerasTF(),checkpoint]\n",
    " \n",
    "history = model.fit(x=train_generator, steps_per_epoch=steps_per_epoch, epochs=epochs, validation_data = validation_generator, validation_steps = validation_steps, callbacks=callbacks)"
   ]
  },
  {
   "cell_type": "code",
   "execution_count": 9,
   "metadata": {},
   "outputs": [],
   "source": [
    "model_json = model.to_json()\n",
    "with open(\"model.json\", \"w\") as json_file:\n",
    "    json_file.write(model_json)"
   ]
  },
  {
   "cell_type": "code",
   "execution_count": null,
   "metadata": {},
   "outputs": [],
   "source": []
  },
  {
   "cell_type": "code",
   "execution_count": null,
   "metadata": {},
   "outputs": [],
   "source": []
  },
  {
   "cell_type": "code",
   "execution_count": null,
   "metadata": {},
   "outputs": [],
   "source": []
  }
 ],
 "metadata": {
  "kernelspec": {
   "display_name": "Python 3",
   "language": "python",
   "name": "python3"
  },
  "language_info": {
   "codemirror_mode": {
    "name": "ipython",
    "version": 3
   },
   "file_extension": ".py",
   "mimetype": "text/x-python",
   "name": "python",
   "nbconvert_exporter": "python",
   "pygments_lexer": "ipython3",
   "version": "3.8.5"
  }
 },
 "nbformat": 4,
 "nbformat_minor": 4
}
