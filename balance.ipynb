{
  "nbformat": 4,
  "nbformat_minor": 0,
  "metadata": {
    "colab": {
      "name": "balance.ipynb",
      "provenance": [],
      "collapsed_sections": [],
      "mount_file_id": "1FsddYUhRKDxR5WY3wNM2kghu0Skzw7PP",
      "authorship_tag": "ABX9TyOvhmd+wZ4vrmGoSRtWmx/D",
      "include_colab_link": true
    },
    "kernelspec": {
      "name": "python3",
      "display_name": "Python 3"
    },
    "language_info": {
      "name": "python"
    },
    "accelerator": "GPU"
  },
  "cells": [
    {
      "cell_type": "markdown",
      "metadata": {
        "id": "view-in-github",
        "colab_type": "text"
      },
      "source": [
        "<a href=\"https://colab.research.google.com/github/sumanpandey72/Sign-Language-Recognition/blob/UI/balance.ipynb\" target=\"_parent\"><img src=\"https://colab.research.google.com/assets/colab-badge.svg\" alt=\"Open In Colab\"/></a>"
      ]
    },
    {
      "cell_type": "code",
      "metadata": {
        "colab": {
          "base_uri": "https://localhost:8080/"
        },
        "id": "VSiM0oQYHwQg",
        "outputId": "8db6c3c7-a140-4966-a9b3-8b2b6d34f45e"
      },
      "source": [
        "!pip install -U scikit-learn\n",
        "!pip install -U imbalanced-learn\n",
        "!pip install xgboost\n",
        "!pip install --upgrade scikit-learn"
      ],
      "execution_count": 4,
      "outputs": [
        {
          "output_type": "stream",
          "text": [
            "Requirement already up-to-date: scikit-learn in /usr/local/lib/python3.7/dist-packages (0.24.1)\n",
            "Requirement already satisfied, skipping upgrade: threadpoolctl>=2.0.0 in /usr/local/lib/python3.7/dist-packages (from scikit-learn) (2.1.0)\n",
            "Requirement already satisfied, skipping upgrade: joblib>=0.11 in /usr/local/lib/python3.7/dist-packages (from scikit-learn) (1.0.1)\n",
            "Requirement already satisfied, skipping upgrade: numpy>=1.13.3 in /usr/local/lib/python3.7/dist-packages (from scikit-learn) (1.19.5)\n",
            "Requirement already satisfied, skipping upgrade: scipy>=0.19.1 in /usr/local/lib/python3.7/dist-packages (from scikit-learn) (1.4.1)\n",
            "Requirement already up-to-date: imbalanced-learn in /usr/local/lib/python3.7/dist-packages (0.8.0)\n",
            "Requirement already satisfied, skipping upgrade: numpy>=1.13.3 in /usr/local/lib/python3.7/dist-packages (from imbalanced-learn) (1.19.5)\n",
            "Requirement already satisfied, skipping upgrade: joblib>=0.11 in /usr/local/lib/python3.7/dist-packages (from imbalanced-learn) (1.0.1)\n",
            "Requirement already satisfied, skipping upgrade: scipy>=0.19.1 in /usr/local/lib/python3.7/dist-packages (from imbalanced-learn) (1.4.1)\n",
            "Requirement already satisfied, skipping upgrade: scikit-learn>=0.24 in /usr/local/lib/python3.7/dist-packages (from imbalanced-learn) (0.24.1)\n",
            "Requirement already satisfied, skipping upgrade: threadpoolctl>=2.0.0 in /usr/local/lib/python3.7/dist-packages (from scikit-learn>=0.24->imbalanced-learn) (2.1.0)\n",
            "Requirement already satisfied: xgboost in /usr/local/lib/python3.7/dist-packages (0.90)\n",
            "Requirement already satisfied: numpy in /usr/local/lib/python3.7/dist-packages (from xgboost) (1.19.5)\n",
            "Requirement already satisfied: scipy in /usr/local/lib/python3.7/dist-packages (from xgboost) (1.4.1)\n",
            "Requirement already up-to-date: scikit-learn in /usr/local/lib/python3.7/dist-packages (0.24.1)\n",
            "Requirement already satisfied, skipping upgrade: numpy>=1.13.3 in /usr/local/lib/python3.7/dist-packages (from scikit-learn) (1.19.5)\n",
            "Requirement already satisfied, skipping upgrade: joblib>=0.11 in /usr/local/lib/python3.7/dist-packages (from scikit-learn) (1.0.1)\n",
            "Requirement already satisfied, skipping upgrade: threadpoolctl>=2.0.0 in /usr/local/lib/python3.7/dist-packages (from scikit-learn) (2.1.0)\n",
            "Requirement already satisfied, skipping upgrade: scipy>=0.19.1 in /usr/local/lib/python3.7/dist-packages (from scikit-learn) (1.4.1)\n"
          ],
          "name": "stdout"
        }
      ]
    },
    {
      "cell_type": "code",
      "metadata": {
        "id": "cfsFf30jIxrK"
      },
      "source": [
        "# remove warnings\n",
        "import warnings\n",
        "warnings.filterwarnings('ignore')\n",
        "# standard imports and setup\n",
        "import pandas as pd\n",
        "import numpy as np\n",
        "import matplotlib.pyplot as plt\n",
        "%matplotlib inline\n",
        "import seaborn as sns\n",
        "from scipy import stats\n",
        "# model evaluation\n",
        "from sklearn.model_selection import train_test_split, cross_val_score, GridSearchCV, ShuffleSplit\n",
        "from sklearn.metrics import *\n",
        "# pipelines\n",
        "from sklearn.compose import make_column_transformer\n",
        "from sklearn.pipeline import Pipeline, make_pipeline\n",
        "# data preparation\n",
        "from sklearn.preprocessing import *\n",
        "from sklearn.decomposition import PCA\n",
        "from sklearn.feature_selection import RFE, RFECV\n",
        "from sklearn.utils import resample\n",
        "from imblearn.datasets import make_imbalance\n",
        "from imblearn.over_sampling import SMOTE\n"
      ],
      "execution_count": 5,
      "outputs": []
    },
    {
      "cell_type": "code",
      "metadata": {
        "colab": {
          "base_uri": "https://localhost:8080/",
          "height": 261
        },
        "id": "eWtQWXiCI312",
        "outputId": "e4268f71-d783-4f17-971e-585850c0bdd9"
      },
      "source": [
        "df=pd.read_csv('/content/drive/MyDrive/Sign_language_google_collab/sign_mnist_dataset.csv')\n",
        "print(df.shape)\n",
        "df.head()"
      ],
      "execution_count": 9,
      "outputs": [
        {
          "output_type": "stream",
          "text": [
            "(34627, 785)\n"
          ],
          "name": "stdout"
        },
        {
          "output_type": "execute_result",
          "data": {
            "text/html": [
              "<div>\n",
              "<style scoped>\n",
              "    .dataframe tbody tr th:only-of-type {\n",
              "        vertical-align: middle;\n",
              "    }\n",
              "\n",
              "    .dataframe tbody tr th {\n",
              "        vertical-align: top;\n",
              "    }\n",
              "\n",
              "    .dataframe thead th {\n",
              "        text-align: right;\n",
              "    }\n",
              "</style>\n",
              "<table border=\"1\" class=\"dataframe\">\n",
              "  <thead>\n",
              "    <tr style=\"text-align: right;\">\n",
              "      <th></th>\n",
              "      <th>label</th>\n",
              "      <th>pixel1</th>\n",
              "      <th>pixel2</th>\n",
              "      <th>pixel3</th>\n",
              "      <th>pixel4</th>\n",
              "      <th>pixel5</th>\n",
              "      <th>pixel6</th>\n",
              "      <th>pixel7</th>\n",
              "      <th>pixel8</th>\n",
              "      <th>pixel9</th>\n",
              "      <th>pixel10</th>\n",
              "      <th>pixel11</th>\n",
              "      <th>pixel12</th>\n",
              "      <th>pixel13</th>\n",
              "      <th>pixel14</th>\n",
              "      <th>pixel15</th>\n",
              "      <th>pixel16</th>\n",
              "      <th>pixel17</th>\n",
              "      <th>pixel18</th>\n",
              "      <th>pixel19</th>\n",
              "      <th>pixel20</th>\n",
              "      <th>pixel21</th>\n",
              "      <th>pixel22</th>\n",
              "      <th>pixel23</th>\n",
              "      <th>pixel24</th>\n",
              "      <th>pixel25</th>\n",
              "      <th>pixel26</th>\n",
              "      <th>pixel27</th>\n",
              "      <th>pixel28</th>\n",
              "      <th>pixel29</th>\n",
              "      <th>pixel30</th>\n",
              "      <th>pixel31</th>\n",
              "      <th>pixel32</th>\n",
              "      <th>pixel33</th>\n",
              "      <th>pixel34</th>\n",
              "      <th>pixel35</th>\n",
              "      <th>pixel36</th>\n",
              "      <th>pixel37</th>\n",
              "      <th>pixel38</th>\n",
              "      <th>pixel39</th>\n",
              "      <th>...</th>\n",
              "      <th>pixel745</th>\n",
              "      <th>pixel746</th>\n",
              "      <th>pixel747</th>\n",
              "      <th>pixel748</th>\n",
              "      <th>pixel749</th>\n",
              "      <th>pixel750</th>\n",
              "      <th>pixel751</th>\n",
              "      <th>pixel752</th>\n",
              "      <th>pixel753</th>\n",
              "      <th>pixel754</th>\n",
              "      <th>pixel755</th>\n",
              "      <th>pixel756</th>\n",
              "      <th>pixel757</th>\n",
              "      <th>pixel758</th>\n",
              "      <th>pixel759</th>\n",
              "      <th>pixel760</th>\n",
              "      <th>pixel761</th>\n",
              "      <th>pixel762</th>\n",
              "      <th>pixel763</th>\n",
              "      <th>pixel764</th>\n",
              "      <th>pixel765</th>\n",
              "      <th>pixel766</th>\n",
              "      <th>pixel767</th>\n",
              "      <th>pixel768</th>\n",
              "      <th>pixel769</th>\n",
              "      <th>pixel770</th>\n",
              "      <th>pixel771</th>\n",
              "      <th>pixel772</th>\n",
              "      <th>pixel773</th>\n",
              "      <th>pixel774</th>\n",
              "      <th>pixel775</th>\n",
              "      <th>pixel776</th>\n",
              "      <th>pixel777</th>\n",
              "      <th>pixel778</th>\n",
              "      <th>pixel779</th>\n",
              "      <th>pixel780</th>\n",
              "      <th>pixel781</th>\n",
              "      <th>pixel782</th>\n",
              "      <th>pixel783</th>\n",
              "      <th>pixel784</th>\n",
              "    </tr>\n",
              "  </thead>\n",
              "  <tbody>\n",
              "    <tr>\n",
              "      <th>0</th>\n",
              "      <td>0</td>\n",
              "      <td>197</td>\n",
              "      <td>195</td>\n",
              "      <td>196</td>\n",
              "      <td>195</td>\n",
              "      <td>197</td>\n",
              "      <td>196</td>\n",
              "      <td>195</td>\n",
              "      <td>196</td>\n",
              "      <td>196</td>\n",
              "      <td>196</td>\n",
              "      <td>200</td>\n",
              "      <td>199</td>\n",
              "      <td>196</td>\n",
              "      <td>198</td>\n",
              "      <td>197</td>\n",
              "      <td>197</td>\n",
              "      <td>198</td>\n",
              "      <td>197</td>\n",
              "      <td>197</td>\n",
              "      <td>198</td>\n",
              "      <td>198</td>\n",
              "      <td>198</td>\n",
              "      <td>199</td>\n",
              "      <td>198</td>\n",
              "      <td>198</td>\n",
              "      <td>195</td>\n",
              "      <td>195</td>\n",
              "      <td>195</td>\n",
              "      <td>197</td>\n",
              "      <td>196</td>\n",
              "      <td>197</td>\n",
              "      <td>197</td>\n",
              "      <td>199</td>\n",
              "      <td>199</td>\n",
              "      <td>198</td>\n",
              "      <td>198</td>\n",
              "      <td>198</td>\n",
              "      <td>197</td>\n",
              "      <td>202</td>\n",
              "      <td>...</td>\n",
              "      <td>111</td>\n",
              "      <td>90</td>\n",
              "      <td>91</td>\n",
              "      <td>60</td>\n",
              "      <td>163</td>\n",
              "      <td>216</td>\n",
              "      <td>209</td>\n",
              "      <td>212</td>\n",
              "      <td>212</td>\n",
              "      <td>212</td>\n",
              "      <td>213</td>\n",
              "      <td>213</td>\n",
              "      <td>211</td>\n",
              "      <td>211</td>\n",
              "      <td>209</td>\n",
              "      <td>211</td>\n",
              "      <td>214</td>\n",
              "      <td>211</td>\n",
              "      <td>186</td>\n",
              "      <td>191</td>\n",
              "      <td>201</td>\n",
              "      <td>204</td>\n",
              "      <td>197</td>\n",
              "      <td>171</td>\n",
              "      <td>158</td>\n",
              "      <td>154</td>\n",
              "      <td>145</td>\n",
              "      <td>126</td>\n",
              "      <td>105</td>\n",
              "      <td>85</td>\n",
              "      <td>84</td>\n",
              "      <td>65</td>\n",
              "      <td>182</td>\n",
              "      <td>213</td>\n",
              "      <td>211</td>\n",
              "      <td>212</td>\n",
              "      <td>212</td>\n",
              "      <td>213</td>\n",
              "      <td>213</td>\n",
              "      <td>213</td>\n",
              "    </tr>\n",
              "    <tr>\n",
              "      <th>1</th>\n",
              "      <td>0</td>\n",
              "      <td>142</td>\n",
              "      <td>144</td>\n",
              "      <td>144</td>\n",
              "      <td>146</td>\n",
              "      <td>147</td>\n",
              "      <td>149</td>\n",
              "      <td>150</td>\n",
              "      <td>151</td>\n",
              "      <td>153</td>\n",
              "      <td>154</td>\n",
              "      <td>155</td>\n",
              "      <td>156</td>\n",
              "      <td>156</td>\n",
              "      <td>157</td>\n",
              "      <td>158</td>\n",
              "      <td>159</td>\n",
              "      <td>160</td>\n",
              "      <td>162</td>\n",
              "      <td>163</td>\n",
              "      <td>163</td>\n",
              "      <td>164</td>\n",
              "      <td>163</td>\n",
              "      <td>164</td>\n",
              "      <td>166</td>\n",
              "      <td>166</td>\n",
              "      <td>167</td>\n",
              "      <td>167</td>\n",
              "      <td>168</td>\n",
              "      <td>142</td>\n",
              "      <td>144</td>\n",
              "      <td>145</td>\n",
              "      <td>147</td>\n",
              "      <td>149</td>\n",
              "      <td>150</td>\n",
              "      <td>151</td>\n",
              "      <td>152</td>\n",
              "      <td>154</td>\n",
              "      <td>155</td>\n",
              "      <td>155</td>\n",
              "      <td>...</td>\n",
              "      <td>109</td>\n",
              "      <td>92</td>\n",
              "      <td>151</td>\n",
              "      <td>179</td>\n",
              "      <td>179</td>\n",
              "      <td>180</td>\n",
              "      <td>181</td>\n",
              "      <td>181</td>\n",
              "      <td>182</td>\n",
              "      <td>182</td>\n",
              "      <td>182</td>\n",
              "      <td>182</td>\n",
              "      <td>153</td>\n",
              "      <td>152</td>\n",
              "      <td>180</td>\n",
              "      <td>214</td>\n",
              "      <td>197</td>\n",
              "      <td>191</td>\n",
              "      <td>194</td>\n",
              "      <td>196</td>\n",
              "      <td>183</td>\n",
              "      <td>161</td>\n",
              "      <td>158</td>\n",
              "      <td>159</td>\n",
              "      <td>162</td>\n",
              "      <td>152</td>\n",
              "      <td>137</td>\n",
              "      <td>121</td>\n",
              "      <td>92</td>\n",
              "      <td>128</td>\n",
              "      <td>178</td>\n",
              "      <td>179</td>\n",
              "      <td>179</td>\n",
              "      <td>180</td>\n",
              "      <td>181</td>\n",
              "      <td>182</td>\n",
              "      <td>182</td>\n",
              "      <td>182</td>\n",
              "      <td>183</td>\n",
              "      <td>183</td>\n",
              "    </tr>\n",
              "    <tr>\n",
              "      <th>2</th>\n",
              "      <td>0</td>\n",
              "      <td>198</td>\n",
              "      <td>200</td>\n",
              "      <td>201</td>\n",
              "      <td>200</td>\n",
              "      <td>199</td>\n",
              "      <td>198</td>\n",
              "      <td>198</td>\n",
              "      <td>197</td>\n",
              "      <td>198</td>\n",
              "      <td>199</td>\n",
              "      <td>199</td>\n",
              "      <td>199</td>\n",
              "      <td>199</td>\n",
              "      <td>199</td>\n",
              "      <td>198</td>\n",
              "      <td>197</td>\n",
              "      <td>196</td>\n",
              "      <td>195</td>\n",
              "      <td>194</td>\n",
              "      <td>194</td>\n",
              "      <td>192</td>\n",
              "      <td>192</td>\n",
              "      <td>192</td>\n",
              "      <td>191</td>\n",
              "      <td>189</td>\n",
              "      <td>187</td>\n",
              "      <td>187</td>\n",
              "      <td>187</td>\n",
              "      <td>200</td>\n",
              "      <td>202</td>\n",
              "      <td>201</td>\n",
              "      <td>201</td>\n",
              "      <td>201</td>\n",
              "      <td>200</td>\n",
              "      <td>201</td>\n",
              "      <td>201</td>\n",
              "      <td>201</td>\n",
              "      <td>200</td>\n",
              "      <td>200</td>\n",
              "      <td>...</td>\n",
              "      <td>101</td>\n",
              "      <td>150</td>\n",
              "      <td>153</td>\n",
              "      <td>155</td>\n",
              "      <td>157</td>\n",
              "      <td>160</td>\n",
              "      <td>160</td>\n",
              "      <td>162</td>\n",
              "      <td>164</td>\n",
              "      <td>166</td>\n",
              "      <td>168</td>\n",
              "      <td>168</td>\n",
              "      <td>106</td>\n",
              "      <td>106</td>\n",
              "      <td>105</td>\n",
              "      <td>104</td>\n",
              "      <td>102</td>\n",
              "      <td>147</td>\n",
              "      <td>181</td>\n",
              "      <td>187</td>\n",
              "      <td>176</td>\n",
              "      <td>168</td>\n",
              "      <td>159</td>\n",
              "      <td>145</td>\n",
              "      <td>113</td>\n",
              "      <td>96</td>\n",
              "      <td>74</td>\n",
              "      <td>53</td>\n",
              "      <td>80</td>\n",
              "      <td>100</td>\n",
              "      <td>100</td>\n",
              "      <td>99</td>\n",
              "      <td>99</td>\n",
              "      <td>98</td>\n",
              "      <td>99</td>\n",
              "      <td>98</td>\n",
              "      <td>100</td>\n",
              "      <td>100</td>\n",
              "      <td>101</td>\n",
              "      <td>100</td>\n",
              "    </tr>\n",
              "    <tr>\n",
              "      <th>3</th>\n",
              "      <td>0</td>\n",
              "      <td>231</td>\n",
              "      <td>232</td>\n",
              "      <td>234</td>\n",
              "      <td>237</td>\n",
              "      <td>238</td>\n",
              "      <td>241</td>\n",
              "      <td>243</td>\n",
              "      <td>244</td>\n",
              "      <td>248</td>\n",
              "      <td>249</td>\n",
              "      <td>249</td>\n",
              "      <td>250</td>\n",
              "      <td>251</td>\n",
              "      <td>251</td>\n",
              "      <td>249</td>\n",
              "      <td>249</td>\n",
              "      <td>251</td>\n",
              "      <td>254</td>\n",
              "      <td>253</td>\n",
              "      <td>254</td>\n",
              "      <td>254</td>\n",
              "      <td>253</td>\n",
              "      <td>254</td>\n",
              "      <td>254</td>\n",
              "      <td>253</td>\n",
              "      <td>254</td>\n",
              "      <td>254</td>\n",
              "      <td>254</td>\n",
              "      <td>233</td>\n",
              "      <td>234</td>\n",
              "      <td>234</td>\n",
              "      <td>237</td>\n",
              "      <td>240</td>\n",
              "      <td>242</td>\n",
              "      <td>244</td>\n",
              "      <td>246</td>\n",
              "      <td>249</td>\n",
              "      <td>250</td>\n",
              "      <td>250</td>\n",
              "      <td>...</td>\n",
              "      <td>85</td>\n",
              "      <td>85</td>\n",
              "      <td>90</td>\n",
              "      <td>70</td>\n",
              "      <td>115</td>\n",
              "      <td>255</td>\n",
              "      <td>255</td>\n",
              "      <td>255</td>\n",
              "      <td>255</td>\n",
              "      <td>255</td>\n",
              "      <td>255</td>\n",
              "      <td>255</td>\n",
              "      <td>239</td>\n",
              "      <td>178</td>\n",
              "      <td>182</td>\n",
              "      <td>181</td>\n",
              "      <td>171</td>\n",
              "      <td>163</td>\n",
              "      <td>151</td>\n",
              "      <td>143</td>\n",
              "      <td>134</td>\n",
              "      <td>123</td>\n",
              "      <td>115</td>\n",
              "      <td>104</td>\n",
              "      <td>95</td>\n",
              "      <td>92</td>\n",
              "      <td>91</td>\n",
              "      <td>86</td>\n",
              "      <td>83</td>\n",
              "      <td>83</td>\n",
              "      <td>90</td>\n",
              "      <td>66</td>\n",
              "      <td>199</td>\n",
              "      <td>255</td>\n",
              "      <td>255</td>\n",
              "      <td>255</td>\n",
              "      <td>255</td>\n",
              "      <td>255</td>\n",
              "      <td>255</td>\n",
              "      <td>255</td>\n",
              "    </tr>\n",
              "    <tr>\n",
              "      <th>4</th>\n",
              "      <td>0</td>\n",
              "      <td>147</td>\n",
              "      <td>149</td>\n",
              "      <td>150</td>\n",
              "      <td>152</td>\n",
              "      <td>153</td>\n",
              "      <td>153</td>\n",
              "      <td>152</td>\n",
              "      <td>153</td>\n",
              "      <td>154</td>\n",
              "      <td>154</td>\n",
              "      <td>153</td>\n",
              "      <td>152</td>\n",
              "      <td>153</td>\n",
              "      <td>152</td>\n",
              "      <td>151</td>\n",
              "      <td>152</td>\n",
              "      <td>151</td>\n",
              "      <td>150</td>\n",
              "      <td>150</td>\n",
              "      <td>148</td>\n",
              "      <td>148</td>\n",
              "      <td>148</td>\n",
              "      <td>148</td>\n",
              "      <td>147</td>\n",
              "      <td>145</td>\n",
              "      <td>146</td>\n",
              "      <td>145</td>\n",
              "      <td>144</td>\n",
              "      <td>148</td>\n",
              "      <td>149</td>\n",
              "      <td>152</td>\n",
              "      <td>153</td>\n",
              "      <td>153</td>\n",
              "      <td>154</td>\n",
              "      <td>154</td>\n",
              "      <td>154</td>\n",
              "      <td>154</td>\n",
              "      <td>154</td>\n",
              "      <td>154</td>\n",
              "      <td>...</td>\n",
              "      <td>92</td>\n",
              "      <td>154</td>\n",
              "      <td>170</td>\n",
              "      <td>166</td>\n",
              "      <td>166</td>\n",
              "      <td>165</td>\n",
              "      <td>165</td>\n",
              "      <td>164</td>\n",
              "      <td>166</td>\n",
              "      <td>158</td>\n",
              "      <td>151</td>\n",
              "      <td>137</td>\n",
              "      <td>167</td>\n",
              "      <td>169</td>\n",
              "      <td>166</td>\n",
              "      <td>189</td>\n",
              "      <td>224</td>\n",
              "      <td>226</td>\n",
              "      <td>180</td>\n",
              "      <td>70</td>\n",
              "      <td>186</td>\n",
              "      <td>195</td>\n",
              "      <td>176</td>\n",
              "      <td>155</td>\n",
              "      <td>137</td>\n",
              "      <td>120</td>\n",
              "      <td>111</td>\n",
              "      <td>108</td>\n",
              "      <td>92</td>\n",
              "      <td>126</td>\n",
              "      <td>174</td>\n",
              "      <td>165</td>\n",
              "      <td>166</td>\n",
              "      <td>165</td>\n",
              "      <td>166</td>\n",
              "      <td>169</td>\n",
              "      <td>167</td>\n",
              "      <td>133</td>\n",
              "      <td>135</td>\n",
              "      <td>140</td>\n",
              "    </tr>\n",
              "  </tbody>\n",
              "</table>\n",
              "<p>5 rows × 785 columns</p>\n",
              "</div>"
            ],
            "text/plain": [
              "   label  pixel1  pixel2  pixel3  ...  pixel781  pixel782  pixel783  pixel784\n",
              "0      0     197     195     196  ...       212       213       213       213\n",
              "1      0     142     144     144  ...       182       182       183       183\n",
              "2      0     198     200     201  ...       100       100       101       100\n",
              "3      0     231     232     234  ...       255       255       255       255\n",
              "4      0     147     149     150  ...       167       133       135       140\n",
              "\n",
              "[5 rows x 785 columns]"
            ]
          },
          "metadata": {
            "tags": []
          },
          "execution_count": 9
        }
      ]
    },
    {
      "cell_type": "markdown",
      "metadata": {
        "id": "4LsSVnNVLDEW"
      },
      "source": [
        "Slicing column\n",
        "x =  Pixel values (column 1 to 785)\n",
        "y =  Label (column 0)"
      ]
    },
    {
      "cell_type": "code",
      "metadata": {
        "colab": {
          "base_uri": "https://localhost:8080/"
        },
        "id": "RrXqkYXXKTD8",
        "outputId": "3d3544e0-961b-4b80-f1e3-654052bcf6af"
      },
      "source": [
        "x = df.iloc[:,1:785]\n",
        "y = df.iloc[:,0]\n",
        "print(x)\n",
        "print(y)"
      ],
      "execution_count": 10,
      "outputs": [
        {
          "output_type": "stream",
          "text": [
            "       pixel1  pixel2  pixel3  pixel4  ...  pixel781  pixel782  pixel783  pixel784\n",
            "0         197     195     196     195  ...       212       213       213       213\n",
            "1         142     144     144     146  ...       182       182       183       183\n",
            "2         198     200     201     200  ...       100       100       101       100\n",
            "3         231     232     234     237  ...       255       255       255       255\n",
            "4         147     149     150     152  ...       167       133       135       140\n",
            "...       ...     ...     ...     ...  ...       ...       ...       ...       ...\n",
            "34622      63      74      85      94  ...       176       176       176       175\n",
            "34623     157     158     160     162  ...       186       185       184       182\n",
            "34624     171     171     171     171  ...        62        66        60        59\n",
            "34625     178     178     178     179  ...        46        48        41        39\n",
            "34626     175     176     176     176  ...        27        32        23        22\n",
            "\n",
            "[34627 rows x 784 columns]\n",
            "0         0\n",
            "1         0\n",
            "2         0\n",
            "3         0\n",
            "4         0\n",
            "         ..\n",
            "34622    24\n",
            "34623    24\n",
            "34624    24\n",
            "34625    24\n",
            "34626    24\n",
            "Name: label, Length: 34627, dtype: int64\n"
          ],
          "name": "stdout"
        }
      ]
    },
    {
      "cell_type": "code",
      "metadata": {
        "id": "x5JczgtnE4KW"
      },
      "source": [
        "x_train, x_test, y_train, y_test = train_test_split(x, y, test_size=0.20, stratify=y, random_state=42)"
      ],
      "execution_count": 15,
      "outputs": []
    },
    {
      "cell_type": "code",
      "metadata": {
        "id": "vRZFRWarFQ3e"
      },
      "source": [
        "x_test= np.asarray(x_test, dtype='float32')\n",
        "y_test= np.asarray(y_test).reshape(-1,1)"
      ],
      "execution_count": 16,
      "outputs": []
    },
    {
      "cell_type": "code",
      "metadata": {
        "id": "1xGJyBfrFVIu"
      },
      "source": [
        "np.save('/content/drive/MyDrive/Sign_language_google_collab/x_test_new.npy', x_test)\n",
        "np.save('/content/drive/MyDrive/Sign_language_google_collab/y_test_new.npy', y_test)"
      ],
      "execution_count": 17,
      "outputs": []
    },
    {
      "cell_type": "markdown",
      "metadata": {
        "id": "2rFbVca_OpoH"
      },
      "source": [
        "Value count of each labels\n"
      ]
    },
    {
      "cell_type": "code",
      "metadata": {
        "colab": {
          "base_uri": "https://localhost:8080/"
        },
        "id": "XXN9QzuNOwZ6",
        "outputId": "adad2693-78da-4e0f-8515-5b49bcf804a1"
      },
      "source": [
        "y_train.value_counts()"
      ],
      "execution_count": 14,
      "outputs": [
        {
          "output_type": "execute_result",
          "data": {
            "text/plain": [
              "0     1165\n",
              "4     1164\n",
              "2     1163\n",
              "5     1161\n",
              "8     1160\n",
              "11    1160\n",
              "24    1160\n",
              "7     1159\n",
              "12    1159\n",
              "18    1156\n",
              "10    1156\n",
              "16    1154\n",
              "1     1154\n",
              "14    1154\n",
              "13    1154\n",
              "3     1153\n",
              "6     1150\n",
              "17    1150\n",
              "15    1148\n",
              "19    1147\n",
              "22    1145\n",
              "23    1145\n",
              "20    1142\n",
              "21    1142\n",
              "Name: label, dtype: int64"
            ]
          },
          "metadata": {
            "tags": []
          },
          "execution_count": 14
        }
      ]
    },
    {
      "cell_type": "markdown",
      "metadata": {
        "id": "I5gjFoRb6Gf5"
      },
      "source": [
        "**Downsample all label to 950 images**"
      ]
    },
    {
      "cell_type": "code",
      "metadata": {
        "id": "X0Y7SaXfQ3a4"
      },
      "source": [
        "x_train_downsampling, y_train_downsampling = make_imbalance(x_train, y_train, sampling_strategy={0: 950, 1: 950, 2: 950, 3: 950 , 4: 950, 5: 950, 6: 950, 7: 950, 8: 950, \n",
        "                                                                                                   10: 950, 11: 950, 12: 950, 13: 950, 14: 950, 15: 950, 16: 950, \n",
        "                                                                                                   17: 950, 18: 950, 19: 950, 20: 950, 21: 950, 22: 950, 23: 950, 24: 950},random_state=42)\n"
      ],
      "execution_count": 187,
      "outputs": []
    },
    {
      "cell_type": "code",
      "metadata": {
        "colab": {
          "base_uri": "https://localhost:8080/"
        },
        "id": "qIigE_GqS9Gl",
        "outputId": "a1f8611d-ebf3-49bd-b1e5-9105c68be8e1"
      },
      "source": [
        "y_train_downsampling.value_counts()"
      ],
      "execution_count": 188,
      "outputs": [
        {
          "output_type": "execute_result",
          "data": {
            "text/plain": [
              "15    950\n",
              "14    950\n",
              "16    950\n",
              "1     950\n",
              "17    950\n",
              "2     950\n",
              "18    950\n",
              "3     950\n",
              "19    950\n",
              "4     950\n",
              "20    950\n",
              "5     950\n",
              "21    950\n",
              "6     950\n",
              "22    950\n",
              "7     950\n",
              "23    950\n",
              "8     950\n",
              "24    950\n",
              "10    950\n",
              "11    950\n",
              "12    950\n",
              "13    950\n",
              "0     950\n",
              "Name: label, dtype: int64"
            ]
          },
          "metadata": {
            "tags": []
          },
          "execution_count": 188
        }
      ]
    },
    {
      "cell_type": "markdown",
      "metadata": {
        "id": "L5F1OnZPFwON"
      },
      "source": [
        "**Upsampling to majority class size(1294)**"
      ]
    },
    {
      "cell_type": "code",
      "metadata": {
        "id": "rgSTdHPQF6Mt"
      },
      "source": [
        "def upsample_classes(data, target):\n",
        "    \n",
        "    lst = list(data[target].unique())\n",
        "    \n",
        "    classes = []\n",
        "    for c in lst:\n",
        "        classes.append(data[data[target]==c])\n",
        "    \n",
        "    length = 0\n",
        "    class_lab = None\n",
        "    for c in classes:\n",
        "        if len(c)>length:\n",
        "            length=len(c)\n",
        "            class_lab = c\n",
        "    class_lab = class_lab[target].unique()[0]\n",
        "    \n",
        "    regroup = pd.concat(classes)\n",
        "    maj_class = regroup[regroup[target]==class_lab]\n",
        "\n",
        "    lst.remove(class_lab)\n",
        "    \n",
        "    new_classes=[]\n",
        "    for i in lst:\n",
        "        new_classes.append(resample(data[data[target]==i],replace=True, n_samples=len(maj_class)))\n",
        "\n",
        "    minority_classes = pd.concat(new_classes)\n",
        "    upsample = pd.concat([regroup[regroup[target]==class_lab],minority_classes])\n",
        "\n",
        "    return upsample"
      ],
      "execution_count": 205,
      "outputs": []
    },
    {
      "cell_type": "code",
      "metadata": {
        "id": "pmzY0LauF-Tm"
      },
      "source": [
        "train = pd.concat([x_train,y_train],axis=1)\n",
        "train_balanced = (upsample_classes(train,'label'))\n",
        "x_train_upsampling = train_balanced.drop(['label'],axis=1)\n",
        "y_train_upsampling = train_balanced.label"
      ],
      "execution_count": 206,
      "outputs": []
    },
    {
      "cell_type": "code",
      "metadata": {
        "colab": {
          "base_uri": "https://localhost:8080/"
        },
        "id": "fcIRye1tH2YN",
        "outputId": "fa940367-1955-40e9-ec6d-590a14b6b510"
      },
      "source": [
        "y_train_upsampling.value_counts()"
      ],
      "execution_count": 207,
      "outputs": [
        {
          "output_type": "execute_result",
          "data": {
            "text/plain": [
              "15    1294\n",
              "14    1294\n",
              "16    1294\n",
              "1     1294\n",
              "17    1294\n",
              "2     1294\n",
              "18    1294\n",
              "3     1294\n",
              "19    1294\n",
              "4     1294\n",
              "20    1294\n",
              "5     1294\n",
              "21    1294\n",
              "6     1294\n",
              "22    1294\n",
              "7     1294\n",
              "23    1294\n",
              "8     1294\n",
              "24    1294\n",
              "10    1294\n",
              "11    1294\n",
              "12    1294\n",
              "13    1294\n",
              "0     1294\n",
              "Name: label, dtype: int64"
            ]
          },
          "metadata": {
            "tags": []
          },
          "execution_count": 207
        }
      ]
    },
    {
      "cell_type": "markdown",
      "metadata": {
        "id": "9c21UFWBRqfd"
      },
      "source": [
        "**Upsampling using Synthetic Minority Oversampling Technique (SMOTE)**"
      ]
    },
    {
      "cell_type": "code",
      "metadata": {
        "id": "lVGpI-UtSjjW"
      },
      "source": [
        "smote = SMOTE(random_state = 42)\n",
        "x_train_SMOTE, y_train_SMOTE = smote.fit_resample(x_train, y_train)"
      ],
      "execution_count": 18,
      "outputs": []
    },
    {
      "cell_type": "code",
      "metadata": {
        "colab": {
          "base_uri": "https://localhost:8080/"
        },
        "id": "zC4QsSKDUAVt",
        "outputId": "2c21f758-1b9c-409e-c32b-2fbc5089c99a"
      },
      "source": [
        "y_train_SMOTE.value_counts()"
      ],
      "execution_count": 19,
      "outputs": [
        {
          "output_type": "execute_result",
          "data": {
            "text/plain": [
              "15    1165\n",
              "14    1165\n",
              "16    1165\n",
              "1     1165\n",
              "17    1165\n",
              "2     1165\n",
              "18    1165\n",
              "3     1165\n",
              "19    1165\n",
              "4     1165\n",
              "20    1165\n",
              "5     1165\n",
              "21    1165\n",
              "6     1165\n",
              "22    1165\n",
              "7     1165\n",
              "23    1165\n",
              "8     1165\n",
              "24    1165\n",
              "10    1165\n",
              "11    1165\n",
              "12    1165\n",
              "13    1165\n",
              "0     1165\n",
              "Name: label, dtype: int64"
            ]
          },
          "metadata": {
            "tags": []
          },
          "execution_count": 19
        }
      ]
    },
    {
      "cell_type": "markdown",
      "metadata": {
        "id": "crTISOOFupSM"
      },
      "source": [
        "**convert and save dataframe to numpy array**"
      ]
    },
    {
      "cell_type": "code",
      "metadata": {
        "colab": {
          "base_uri": "https://localhost:8080/",
          "height": 178
        },
        "id": "8Vn6-ir1wu9N",
        "outputId": "20828a74-c205-4550-fb16-2eb7b82fb4f6"
      },
      "source": [
        "x_train_downsampling = np.asarray(x_train_downsampling, dtype='float32')\n",
        "y_train_downsampling = np.asarray(y_train_downsampling).reshape(-1,1)"
      ],
      "execution_count": 20,
      "outputs": [
        {
          "output_type": "error",
          "ename": "NameError",
          "evalue": "ignored",
          "traceback": [
            "\u001b[0;31m---------------------------------------------------------------------------\u001b[0m",
            "\u001b[0;31mNameError\u001b[0m                                 Traceback (most recent call last)",
            "\u001b[0;32m<ipython-input-20-3b422bde8e36>\u001b[0m in \u001b[0;36m<module>\u001b[0;34m()\u001b[0m\n\u001b[0;32m----> 1\u001b[0;31m \u001b[0mx_train_downsampling\u001b[0m \u001b[0;34m=\u001b[0m \u001b[0mnp\u001b[0m\u001b[0;34m.\u001b[0m\u001b[0masarray\u001b[0m\u001b[0;34m(\u001b[0m\u001b[0mx_train_downsampling\u001b[0m\u001b[0;34m,\u001b[0m \u001b[0mdtype\u001b[0m\u001b[0;34m=\u001b[0m\u001b[0;34m'float32'\u001b[0m\u001b[0;34m)\u001b[0m\u001b[0;34m\u001b[0m\u001b[0;34m\u001b[0m\u001b[0m\n\u001b[0m\u001b[1;32m      2\u001b[0m \u001b[0my_train_downsampling\u001b[0m \u001b[0;34m=\u001b[0m \u001b[0mnp\u001b[0m\u001b[0;34m.\u001b[0m\u001b[0masarray\u001b[0m\u001b[0;34m(\u001b[0m\u001b[0my_train_downsampling\u001b[0m\u001b[0;34m)\u001b[0m\u001b[0;34m.\u001b[0m\u001b[0mreshape\u001b[0m\u001b[0;34m(\u001b[0m\u001b[0;34m-\u001b[0m\u001b[0;36m1\u001b[0m\u001b[0;34m,\u001b[0m\u001b[0;36m1\u001b[0m\u001b[0;34m)\u001b[0m\u001b[0;34m\u001b[0m\u001b[0;34m\u001b[0m\u001b[0m\n",
            "\u001b[0;31mNameError\u001b[0m: name 'x_train_downsampling' is not defined"
          ]
        }
      ]
    },
    {
      "cell_type": "code",
      "metadata": {
        "id": "9l2_0ZI62eEm"
      },
      "source": [
        "np.save('/content/drive/MyDrive/Sign_language_google_collab/x_train_downsampling.npy', x_train_downsampling)\n",
        "np.save('/content/drive/MyDrive/Sign_language_google_collab/y_train_downsampling.npy', y_train_downsampling)"
      ],
      "execution_count": 191,
      "outputs": []
    },
    {
      "cell_type": "code",
      "metadata": {
        "id": "0mtA_KACNwqO"
      },
      "source": [
        "x_train_upsampling = np.asarray(x_train_upsampling, dtype='float32')\n",
        "y_train_upsampling = np.asarray(y_train_upsampling).reshape(-1,1)"
      ],
      "execution_count": 208,
      "outputs": []
    },
    {
      "cell_type": "code",
      "metadata": {
        "id": "BFjMguo9N9Ih"
      },
      "source": [
        "np.save('/content/drive/MyDrive/Sign_language_google_collab/x_train_upsampling.npy', x_train_upsampling)\n",
        "np.save('/content/drive/MyDrive/Sign_language_google_collab/y_train_upsampling.npy', y_train_upsampling)"
      ],
      "execution_count": 209,
      "outputs": []
    },
    {
      "cell_type": "code",
      "metadata": {
        "id": "DUfBCRbjUYkj"
      },
      "source": [
        "x_train_SMOTE = np.asarray(x_train_SMOTE, dtype='float32')\n",
        "y_train_SMOTE = np.asarray(y_train_SMOTE).reshape(-1,1)"
      ],
      "execution_count": 21,
      "outputs": []
    },
    {
      "cell_type": "code",
      "metadata": {
        "id": "hi97Tc4lUkC6"
      },
      "source": [
        "np.save('/content/drive/MyDrive/Sign_language_google_collab/x_train_SMOTE.npy', x_train_SMOTE)\n",
        "np.save('/content/drive/MyDrive/Sign_language_google_collab/y_train_SMOTE.npy', y_train_SMOTE)"
      ],
      "execution_count": 22,
      "outputs": []
    },
    {
      "cell_type": "markdown",
      "metadata": {
        "id": "y1OOYV2t62p2"
      },
      "source": [
        "**Model training**"
      ]
    },
    {
      "cell_type": "code",
      "metadata": {
        "colab": {
          "base_uri": "https://localhost:8080/"
        },
        "id": "kXX9i47k69RH",
        "outputId": "af203274-c335-4f55-871f-36f995b049e9"
      },
      "source": [
        "pip install livelossplot"
      ],
      "execution_count": 23,
      "outputs": [
        {
          "output_type": "stream",
          "text": [
            "Collecting livelossplot\n",
            "  Downloading https://files.pythonhosted.org/packages/57/26/840be243088ce142d61c60273408ec09fa1de4534056a56d6e91b73f0cae/livelossplot-0.5.4-py3-none-any.whl\n",
            "Requirement already satisfied: bokeh in /usr/local/lib/python3.7/dist-packages (from livelossplot) (2.3.0)\n",
            "Requirement already satisfied: ipython in /usr/local/lib/python3.7/dist-packages (from livelossplot) (5.5.0)\n",
            "Requirement already satisfied: matplotlib in /usr/local/lib/python3.7/dist-packages (from livelossplot) (3.2.2)\n",
            "Requirement already satisfied: pillow>=7.1.0 in /usr/local/lib/python3.7/dist-packages (from bokeh->livelossplot) (7.1.2)\n",
            "Requirement already satisfied: PyYAML>=3.10 in /usr/local/lib/python3.7/dist-packages (from bokeh->livelossplot) (3.13)\n",
            "Requirement already satisfied: Jinja2>=2.7 in /usr/local/lib/python3.7/dist-packages (from bokeh->livelossplot) (2.11.3)\n",
            "Requirement already satisfied: numpy>=1.11.3 in /usr/local/lib/python3.7/dist-packages (from bokeh->livelossplot) (1.19.5)\n",
            "Requirement already satisfied: packaging>=16.8 in /usr/local/lib/python3.7/dist-packages (from bokeh->livelossplot) (20.9)\n",
            "Requirement already satisfied: typing-extensions>=3.7.4 in /usr/local/lib/python3.7/dist-packages (from bokeh->livelossplot) (3.7.4.3)\n",
            "Requirement already satisfied: tornado>=5.1 in /usr/local/lib/python3.7/dist-packages (from bokeh->livelossplot) (5.1.1)\n",
            "Requirement already satisfied: python-dateutil>=2.1 in /usr/local/lib/python3.7/dist-packages (from bokeh->livelossplot) (2.8.1)\n",
            "Requirement already satisfied: decorator in /usr/local/lib/python3.7/dist-packages (from ipython->livelossplot) (4.4.2)\n",
            "Requirement already satisfied: pexpect; sys_platform != \"win32\" in /usr/local/lib/python3.7/dist-packages (from ipython->livelossplot) (4.8.0)\n",
            "Requirement already satisfied: prompt-toolkit<2.0.0,>=1.0.4 in /usr/local/lib/python3.7/dist-packages (from ipython->livelossplot) (1.0.18)\n",
            "Requirement already satisfied: traitlets>=4.2 in /usr/local/lib/python3.7/dist-packages (from ipython->livelossplot) (5.0.5)\n",
            "Requirement already satisfied: setuptools>=18.5 in /usr/local/lib/python3.7/dist-packages (from ipython->livelossplot) (54.2.0)\n",
            "Requirement already satisfied: pickleshare in /usr/local/lib/python3.7/dist-packages (from ipython->livelossplot) (0.7.5)\n",
            "Requirement already satisfied: pygments in /usr/local/lib/python3.7/dist-packages (from ipython->livelossplot) (2.6.1)\n",
            "Requirement already satisfied: simplegeneric>0.8 in /usr/local/lib/python3.7/dist-packages (from ipython->livelossplot) (0.8.1)\n",
            "Requirement already satisfied: kiwisolver>=1.0.1 in /usr/local/lib/python3.7/dist-packages (from matplotlib->livelossplot) (1.3.1)\n",
            "Requirement already satisfied: pyparsing!=2.0.4,!=2.1.2,!=2.1.6,>=2.0.1 in /usr/local/lib/python3.7/dist-packages (from matplotlib->livelossplot) (2.4.7)\n",
            "Requirement already satisfied: cycler>=0.10 in /usr/local/lib/python3.7/dist-packages (from matplotlib->livelossplot) (0.10.0)\n",
            "Requirement already satisfied: MarkupSafe>=0.23 in /usr/local/lib/python3.7/dist-packages (from Jinja2>=2.7->bokeh->livelossplot) (1.1.1)\n",
            "Requirement already satisfied: six>=1.5 in /usr/local/lib/python3.7/dist-packages (from python-dateutil>=2.1->bokeh->livelossplot) (1.15.0)\n",
            "Requirement already satisfied: ptyprocess>=0.5 in /usr/local/lib/python3.7/dist-packages (from pexpect; sys_platform != \"win32\"->ipython->livelossplot) (0.7.0)\n",
            "Requirement already satisfied: wcwidth in /usr/local/lib/python3.7/dist-packages (from prompt-toolkit<2.0.0,>=1.0.4->ipython->livelossplot) (0.2.5)\n",
            "Requirement already satisfied: ipython-genutils in /usr/local/lib/python3.7/dist-packages (from traitlets>=4.2->ipython->livelossplot) (0.2.0)\n",
            "Installing collected packages: livelossplot\n",
            "Successfully installed livelossplot-0.5.4\n"
          ],
          "name": "stdout"
        }
      ]
    },
    {
      "cell_type": "code",
      "metadata": {
        "id": "1oWAFRMV7xeE"
      },
      "source": [
        "import numpy as np \n",
        "import pandas as pd \n",
        "import matplotlib.pyplot as plt\n",
        "import keras\n",
        "from keras.models import Sequential\n",
        "from keras.layers import Dense, Conv2D, MaxPooling2D, Flatten, Dropout, BatchNormalization\n",
        "from sklearn.preprocessing import LabelBinarizer\n",
        "from tensorflow.keras.preprocessing.image import ImageDataGenerator\n",
        "from tensorflow.keras.optimizers import Adam\n",
        "from tensorflow.keras.callbacks import ModelCheckpoint,EarlyStopping, ReduceLROnPlateau\n",
        "from livelossplot import PlotLossesKerasTF\n",
        "from sklearn.preprocessing import LabelBinarizer\n",
        "from sklearn.model_selection import train_test_split\n",
        "from livelossplot import PlotLossesKerasTF\n",
        "from sklearn.metrics import confusion_matrix,classification_report,confusion_matrix\n",
        "from sklearn import metrics\n",
        "import seaborn as sb"
      ],
      "execution_count": 24,
      "outputs": []
    },
    {
      "cell_type": "markdown",
      "metadata": {
        "id": "mzhANzVbAiZ8"
      },
      "source": [
        "**Training using downsampling**"
      ]
    },
    {
      "cell_type": "code",
      "metadata": {
        "id": "8rbOQPGq7096"
      },
      "source": [
        "x_test = np.load('/content/drive/MyDrive/Sign_language_google_collab/X_test.npy')\n",
        "x_train_downsampling = np.load('/content/drive/MyDrive/Sign_language_google_collab/x_train_downsampling.npy')\n",
        "y_test = np.load('/content/drive/MyDrive/Sign_language_google_collab/Y_test.npy')\n",
        "y_train_downsampling = np.load('/content/drive/MyDrive/Sign_language_google_collab/y_train_downsampling.npy')"
      ],
      "execution_count": 194,
      "outputs": []
    },
    {
      "cell_type": "code",
      "metadata": {
        "id": "oTo6UWBl8PvF"
      },
      "source": [
        "x_train_downsampling,x_validate_downsampling,y_train_downsampling,y_validate_downsampling = train_test_split(x_train_downsampling,y_train_downsampling, test_size = 0.2, random_state = 12345)"
      ],
      "execution_count": 195,
      "outputs": []
    },
    {
      "cell_type": "code",
      "metadata": {
        "id": "7AO5VzIK8iFM"
      },
      "source": [
        "x_train_downsampling = x_train_downsampling.reshape(-1,28,28,1)\n",
        "x_test = x_test.reshape(-1,28,28,1)\n",
        "x_validate_downsampling = x_validate_downsampling.reshape(-1,28,28,1)\n",
        "\n",
        "x_train_downsampling = x_train_downsampling/255.0\n",
        "x_test = x_test/255.0\n",
        "x_validate_downsampling = x_validate_downsampling/255.0\n",
        "\n",
        "label = LabelBinarizer()\n",
        "y_train_downsampling = label.fit_transform(y_train_downsampling)\n",
        "y_test = label.fit_transform(y_test)\n",
        "y_validate_downsampling = label.fit_transform(y_validate_downsampling)"
      ],
      "execution_count": 196,
      "outputs": []
    },
    {
      "cell_type": "code",
      "metadata": {
        "colab": {
          "base_uri": "https://localhost:8080/"
        },
        "id": "T4G8nTiM85sP",
        "outputId": "4ae1f53b-f344-4401-df6e-f73c7284dc3b"
      },
      "source": [
        "model = Sequential()\n",
        "\n",
        "model.add(Conv2D(32, (3, 3), input_shape = (28,28,1), activation='relu'))\n",
        "model.add(MaxPooling2D(pool_size = (2, 2)))\n",
        "model.add(Dropout(0.25))\n",
        "\n",
        "model.add(Conv2D(64, (3, 3),activation='relu'))\n",
        "model.add(MaxPooling2D(pool_size = (2, 2)))\n",
        "model.add(Dropout(0.25))\n",
        "\n",
        "model.add(Conv2D(128, (3, 3), activation='relu'))\n",
        "model.add(MaxPooling2D(pool_size = (2, 2)))\n",
        "model.add(Dropout(0.25))\n",
        "\n",
        "model.add(Flatten())\n",
        "model.add(Dense(units = 512, activation = 'relu'))\n",
        "model.add(Dropout(0.25))\n",
        "model.add(Dense(units = 24, activation = 'softmax'))\n",
        "\n",
        "model.summary()"
      ],
      "execution_count": 197,
      "outputs": [
        {
          "output_type": "stream",
          "text": [
            "Model: \"sequential_9\"\n",
            "_________________________________________________________________\n",
            "Layer (type)                 Output Shape              Param #   \n",
            "=================================================================\n",
            "conv2d_27 (Conv2D)           (None, 26, 26, 32)        320       \n",
            "_________________________________________________________________\n",
            "max_pooling2d_27 (MaxPooling (None, 13, 13, 32)        0         \n",
            "_________________________________________________________________\n",
            "dropout_36 (Dropout)         (None, 13, 13, 32)        0         \n",
            "_________________________________________________________________\n",
            "conv2d_28 (Conv2D)           (None, 11, 11, 64)        18496     \n",
            "_________________________________________________________________\n",
            "max_pooling2d_28 (MaxPooling (None, 5, 5, 64)          0         \n",
            "_________________________________________________________________\n",
            "dropout_37 (Dropout)         (None, 5, 5, 64)          0         \n",
            "_________________________________________________________________\n",
            "conv2d_29 (Conv2D)           (None, 3, 3, 128)         73856     \n",
            "_________________________________________________________________\n",
            "max_pooling2d_29 (MaxPooling (None, 1, 1, 128)         0         \n",
            "_________________________________________________________________\n",
            "dropout_38 (Dropout)         (None, 1, 1, 128)         0         \n",
            "_________________________________________________________________\n",
            "flatten_9 (Flatten)          (None, 128)               0         \n",
            "_________________________________________________________________\n",
            "dense_18 (Dense)             (None, 512)               66048     \n",
            "_________________________________________________________________\n",
            "dropout_39 (Dropout)         (None, 512)               0         \n",
            "_________________________________________________________________\n",
            "dense_19 (Dense)             (None, 24)                12312     \n",
            "=================================================================\n",
            "Total params: 171,032\n",
            "Trainable params: 171,032\n",
            "Non-trainable params: 0\n",
            "_________________________________________________________________\n"
          ],
          "name": "stdout"
        }
      ]
    },
    {
      "cell_type": "code",
      "metadata": {
        "id": "aCZxFxGu89Jm"
      },
      "source": [
        "model.compile(loss ='categorical_crossentropy', optimizer='adam' ,metrics =['accuracy'])"
      ],
      "execution_count": 198,
      "outputs": []
    },
    {
      "cell_type": "code",
      "metadata": {
        "id": "b8UfaPUO_ILG"
      },
      "source": [
        "checkpoint = ModelCheckpoint(\"/content/drive/MyDrive/Sign_language_google_collab/model_weights_downsampling.h5\", monitor='val_accuracy',\n",
        "                             save_weights_only=True, mode='max', verbose=1)\n",
        "\n",
        "callbacks = [PlotLossesKerasTF(),checkpoint]"
      ],
      "execution_count": 199,
      "outputs": []
    },
    {
      "cell_type": "code",
      "metadata": {
        "colab": {
          "base_uri": "https://localhost:8080/",
          "height": 719
        },
        "id": "vlO63XcX_KRA",
        "outputId": "8d39ed05-285b-4d98-86ef-aa41b5131646"
      },
      "source": [
        "history = model.fit(x_train_downsampling, y_train_downsampling, batch_size = 512, epochs = 50, verbose = 1, validation_data = (x_validate_downsampling, y_validate_downsampling),callbacks=callbacks)"
      ],
      "execution_count": 200,
      "outputs": [
        {
          "output_type": "display_data",
          "data": {
            "image/png": "[encoded data removed]",
            "text/plain": [
              "<Figure size 864x576 with 2 Axes>"
            ]
          },
          "metadata": {
            "tags": [],
            "needs_background": "light"
          }
        },
        {
          "output_type": "stream",
          "text": [
            "accuracy\n",
            "\ttraining         \t (min:    0.053, max:    0.990, cur:    0.990)\n",
            "\tvalidation       \t (min:    0.093, max:    1.000, cur:    1.000)\n",
            "Loss\n",
            "\ttraining         \t (min:    0.034, max:    3.171, cur:    0.034)\n",
            "\tvalidation       \t (min:    0.001, max:    3.127, cur:    0.001)\n",
            "\n",
            "Epoch 00050: saving model to /content/drive/MyDrive/Sign_language_google_collab/model_weights_downsampling.h5\n"
          ],
          "name": "stdout"
        }
      ]
    },
    {
      "cell_type": "code",
      "metadata": {
        "colab": {
          "base_uri": "https://localhost:8080/"
        },
        "id": "hiCP6wTa_NxX",
        "outputId": "5ceb348c-f916-433f-a4d4-9a12acd9f54e"
      },
      "source": [
        "model.evaluate(x_test,y_test,verbose=0)"
      ],
      "execution_count": 201,
      "outputs": [
        {
          "output_type": "execute_result",
          "data": {
            "text/plain": [
              "[0.18068256974220276, 0.9393474459648132]"
            ]
          },
          "metadata": {
            "tags": []
          },
          "execution_count": 201
        }
      ]
    },
    {
      "cell_type": "code",
      "metadata": {
        "id": "fFtF94fFEU0f"
      },
      "source": [
        "y_test=np.argmax(y_test, axis=1)\n",
        "pred = model.predict_classes(x_test)"
      ],
      "execution_count": 202,
      "outputs": []
    },
    {
      "cell_type": "code",
      "metadata": {
        "colab": {
          "base_uri": "https://localhost:8080/"
        },
        "id": "7UIQ7QvEAAAY",
        "outputId": "69147b26-bd2d-48b6-8320-0444e66418ac"
      },
      "source": [
        "print(classification_report(y_test,pred))"
      ],
      "execution_count": 203,
      "outputs": [
        {
          "output_type": "stream",
          "text": [
            "              precision    recall  f1-score   support\n",
            "\n",
            "           0       0.99      1.00      1.00       331\n",
            "           1       1.00      1.00      1.00       432\n",
            "           2       0.88      0.98      0.93       310\n",
            "           3       1.00      1.00      1.00       245\n",
            "           4       0.94      1.00      0.97       498\n",
            "           5       1.00      1.00      1.00       247\n",
            "           6       0.93      0.79      0.86       348\n",
            "           7       0.95      0.95      0.95       436\n",
            "           8       0.88      1.00      0.94       288\n",
            "           9       1.00      0.97      0.98       331\n",
            "          10       1.00      0.99      0.99       209\n",
            "          11       0.99      0.96      0.98       394\n",
            "          12       0.95      0.98      0.96       291\n",
            "          13       0.97      0.76      0.86       246\n",
            "          14       0.97      1.00      0.98       347\n",
            "          15       0.91      1.00      0.95       164\n",
            "          16       0.77      0.85      0.81       144\n",
            "          17       0.92      0.96      0.94       246\n",
            "          18       0.77      0.78      0.78       248\n",
            "          19       0.87      1.00      0.93       266\n",
            "          20       1.00      0.74      0.85       346\n",
            "          21       0.91      1.00      0.95       206\n",
            "          22       0.81      0.88      0.85       267\n",
            "          23       1.00      0.88      0.94       332\n",
            "\n",
            "    accuracy                           0.94      7172\n",
            "   macro avg       0.93      0.94      0.93      7172\n",
            "weighted avg       0.94      0.94      0.94      7172\n",
            "\n"
          ],
          "name": "stdout"
        }
      ]
    },
    {
      "cell_type": "code",
      "metadata": {
        "colab": {
          "base_uri": "https://localhost:8080/",
          "height": 706
        },
        "id": "5yqEWaNOAJ7W",
        "outputId": "bec1c5ed-e87f-4b9d-a96f-26709b0f385a"
      },
      "source": [
        "cm = confusion_matrix(y_true=y_test, y_pred = pred)\n",
        "plt.figure(figsize=(12,12))\n",
        "sb.heatmap(cm, annot=True, \n",
        "            linewidths=.5, square = True, cmap = 'Blues_r', fmt='0.4g');\n",
        "\n",
        "plt.ylabel('Actual label')\n",
        "plt.xlabel('Predicted label')"
      ],
      "execution_count": 204,
      "outputs": [
        {
          "output_type": "execute_result",
          "data": {
            "text/plain": [
              "Text(0.5, 145.31999999999996, 'Predicted label')"
            ]
          },
          "metadata": {
            "tags": []
          },
          "execution_count": 204
        },
        {
          "output_type": "display_data",
          "data": {
            "image/png": "[encoded data removed]",
            "text/plain": [
              "<Figure size 864x864 with 2 Axes>"
            ]
          },
          "metadata": {
            "tags": [],
            "needs_background": "light"
          }
        }
      ]
    },
    {
      "cell_type": "markdown",
      "metadata": {
        "id": "eq1g1AsTOSxC"
      },
      "source": [
        "**Training using downsampling**"
      ]
    },
    {
      "cell_type": "code",
      "metadata": {
        "id": "VqORz7lyOZiy"
      },
      "source": [
        "x_test = np.load('/content/drive/MyDrive/Sign_language_google_collab/X_test.npy')\n",
        "x_train_upsampling = np.load('/content/drive/MyDrive/Sign_language_google_collab/x_train_upsampling.npy')\n",
        "y_test = np.load('/content/drive/MyDrive/Sign_language_google_collab/Y_test.npy')\n",
        "y_train_upsampling = np.load('/content/drive/MyDrive/Sign_language_google_collab/y_train_upsampling.npy')"
      ],
      "execution_count": 210,
      "outputs": []
    },
    {
      "cell_type": "code",
      "metadata": {
        "id": "1lxhqH_8Pru8"
      },
      "source": [
        "x_train_upsampling,x_validate_upsampling,y_train_upsampling,y_validate_upsampling = train_test_split(x_train_upsampling,y_train_upsampling, test_size = 0.2, random_state = 12345)"
      ],
      "execution_count": 211,
      "outputs": []
    },
    {
      "cell_type": "code",
      "metadata": {
        "id": "xfNE553jQDEN"
      },
      "source": [
        "x_train_upsampling = x_train_upsampling.reshape(-1,28,28,1)\n",
        "x_test = x_test.reshape(-1,28,28,1)\n",
        "x_validate_upsampling = x_validate_upsampling.reshape(-1,28,28,1)\n",
        "\n",
        "x_train_upsampling = x_train_upsampling/255.0\n",
        "x_test = x_test/255.0\n",
        "x_validate_upsampling = x_validate_upsampling/255.0\n",
        "\n",
        "label = LabelBinarizer()\n",
        "y_train_upsampling = label.fit_transform(y_train_upsampling)\n",
        "y_test = label.fit_transform(y_test)\n",
        "y_validate_upsampling = label.fit_transform(y_validate_upsampling)\n"
      ],
      "execution_count": 212,
      "outputs": []
    },
    {
      "cell_type": "code",
      "metadata": {
        "colab": {
          "base_uri": "https://localhost:8080/"
        },
        "id": "e1BydRq6QcEb",
        "outputId": "736f2a4e-c47d-4479-a775-7af456243b93"
      },
      "source": [
        "model = Sequential()\n",
        "\n",
        "model.add(Conv2D(32, (3, 3), input_shape = (28,28,1), activation='relu'))\n",
        "model.add(MaxPooling2D(pool_size = (2, 2)))\n",
        "model.add(Dropout(0.25))\n",
        "\n",
        "model.add(Conv2D(64, (3, 3),activation='relu'))\n",
        "model.add(MaxPooling2D(pool_size = (2, 2)))\n",
        "model.add(Dropout(0.25))\n",
        "\n",
        "model.add(Conv2D(128, (3, 3), activation='relu'))\n",
        "model.add(MaxPooling2D(pool_size = (2, 2)))\n",
        "model.add(Dropout(0.25))\n",
        "\n",
        "model.add(Flatten())\n",
        "model.add(Dense(units = 512, activation = 'relu'))\n",
        "model.add(Dropout(0.25))\n",
        "model.add(Dense(units = 24, activation = 'softmax'))\n",
        "\n",
        "model.summary()"
      ],
      "execution_count": 213,
      "outputs": [
        {
          "output_type": "stream",
          "text": [
            "Model: \"sequential_10\"\n",
            "_________________________________________________________________\n",
            "Layer (type)                 Output Shape              Param #   \n",
            "=================================================================\n",
            "conv2d_30 (Conv2D)           (None, 26, 26, 32)        320       \n",
            "_________________________________________________________________\n",
            "max_pooling2d_30 (MaxPooling (None, 13, 13, 32)        0         \n",
            "_________________________________________________________________\n",
            "dropout_40 (Dropout)         (None, 13, 13, 32)        0         \n",
            "_________________________________________________________________\n",
            "conv2d_31 (Conv2D)           (None, 11, 11, 64)        18496     \n",
            "_________________________________________________________________\n",
            "max_pooling2d_31 (MaxPooling (None, 5, 5, 64)          0         \n",
            "_________________________________________________________________\n",
            "dropout_41 (Dropout)         (None, 5, 5, 64)          0         \n",
            "_________________________________________________________________\n",
            "conv2d_32 (Conv2D)           (None, 3, 3, 128)         73856     \n",
            "_________________________________________________________________\n",
            "max_pooling2d_32 (MaxPooling (None, 1, 1, 128)         0         \n",
            "_________________________________________________________________\n",
            "dropout_42 (Dropout)         (None, 1, 1, 128)         0         \n",
            "_________________________________________________________________\n",
            "flatten_10 (Flatten)         (None, 128)               0         \n",
            "_________________________________________________________________\n",
            "dense_20 (Dense)             (None, 512)               66048     \n",
            "_________________________________________________________________\n",
            "dropout_43 (Dropout)         (None, 512)               0         \n",
            "_________________________________________________________________\n",
            "dense_21 (Dense)             (None, 24)                12312     \n",
            "=================================================================\n",
            "Total params: 171,032\n",
            "Trainable params: 171,032\n",
            "Non-trainable params: 0\n",
            "_________________________________________________________________\n"
          ],
          "name": "stdout"
        }
      ]
    },
    {
      "cell_type": "code",
      "metadata": {
        "id": "Qvj-iylhQuqq"
      },
      "source": [
        "model.compile(loss ='categorical_crossentropy', optimizer='adam' ,metrics =['accuracy'])"
      ],
      "execution_count": 214,
      "outputs": []
    },
    {
      "cell_type": "code",
      "metadata": {
        "id": "AurVvcJqQxU3"
      },
      "source": [
        "checkpoint = ModelCheckpoint(\"/content/drive/MyDrive/Sign_language_google_collab/model_weights_upscaling.h5\", monitor='val_accuracy',\n",
        "                             save_weights_only=True, mode='max', verbose=1)\n",
        "\n",
        "callbacks = [PlotLossesKerasTF(),checkpoint]"
      ],
      "execution_count": 215,
      "outputs": []
    },
    {
      "cell_type": "code",
      "metadata": {
        "colab": {
          "base_uri": "https://localhost:8080/",
          "height": 719
        },
        "id": "yU76VktuQyZo",
        "outputId": "1a83a658-3a5e-4dc7-c1e5-fb4b47626526"
      },
      "source": [
        "history = model.fit(x_train_upsampling, y_train_upsampling, batch_size = 512, epochs = 50, verbose = 1, validation_data = (x_validate_upsampling, y_validate_upsampling),callbacks=callbacks)"
      ],
      "execution_count": 216,
      "outputs": [
        {
          "output_type": "display_data",
          "data": {
            "image/png": "[encoded data removed]",
            "text/plain": [
              "<Figure size 864x576 with 2 Axes>"
            ]
          },
          "metadata": {
            "tags": [],
            "needs_background": "light"
          }
        },
        {
          "output_type": "stream",
          "text": [
            "accuracy\n",
            "\ttraining         \t (min:    0.079, max:    0.993, cur:    0.993)\n",
            "\tvalidation       \t (min:    0.157, max:    1.000, cur:    1.000)\n",
            "Loss\n",
            "\ttraining         \t (min:    0.021, max:    3.070, cur:    0.021)\n",
            "\tvalidation       \t (min:    0.000, max:    2.731, cur:    0.000)\n",
            "\n",
            "Epoch 00050: saving model to /content/drive/MyDrive/Sign_language_google_collab/model_weights_upscaling.h5\n"
          ],
          "name": "stdout"
        }
      ]
    },
    {
      "cell_type": "code",
      "metadata": {
        "colab": {
          "base_uri": "https://localhost:8080/"
        },
        "id": "g47tI00oRPcq",
        "outputId": "5af4cce4-f34e-46c5-ce7a-724e8d4c2708"
      },
      "source": [
        "model.evaluate(x_test,y_test,verbose=0)"
      ],
      "execution_count": 217,
      "outputs": [
        {
          "output_type": "execute_result",
          "data": {
            "text/plain": [
              "[0.1744036227464676, 0.9597043991088867]"
            ]
          },
          "metadata": {
            "tags": []
          },
          "execution_count": 217
        }
      ]
    },
    {
      "cell_type": "code",
      "metadata": {
        "id": "qexdLgVvRQY_"
      },
      "source": [
        "y_test=np.argmax(y_test, axis=1)\n",
        "pred = model.predict_classes(x_test)"
      ],
      "execution_count": 218,
      "outputs": []
    },
    {
      "cell_type": "code",
      "metadata": {
        "colab": {
          "base_uri": "https://localhost:8080/"
        },
        "id": "PZqA_-xDRTCw",
        "outputId": "56cce203-e17c-45bd-e9af-6a37d6dcddd6"
      },
      "source": [
        "print(classification_report(y_test,pred))"
      ],
      "execution_count": 219,
      "outputs": [
        {
          "output_type": "stream",
          "text": [
            "              precision    recall  f1-score   support\n",
            "\n",
            "           0       1.00      1.00      1.00       331\n",
            "           1       1.00      1.00      1.00       432\n",
            "           2       0.94      1.00      0.97       310\n",
            "           3       1.00      1.00      1.00       245\n",
            "           4       0.99      1.00      1.00       498\n",
            "           5       1.00      1.00      1.00       247\n",
            "           6       0.94      0.88      0.91       348\n",
            "           7       0.95      0.95      0.95       436\n",
            "           8       0.88      1.00      0.94       288\n",
            "           9       1.00      0.94      0.97       331\n",
            "          10       0.92      1.00      0.96       209\n",
            "          11       1.00      0.95      0.97       394\n",
            "          12       0.96      1.00      0.98       291\n",
            "          13       1.00      0.90      0.95       246\n",
            "          14       1.00      0.99      1.00       347\n",
            "          15       1.00      1.00      1.00       164\n",
            "          16       0.61      0.90      0.72       144\n",
            "          17       0.96      1.00      0.98       246\n",
            "          18       0.91      0.83      0.87       248\n",
            "          19       0.95      1.00      0.98       266\n",
            "          20       1.00      0.83      0.90       346\n",
            "          21       1.00      1.00      1.00       206\n",
            "          22       0.91      1.00      0.95       267\n",
            "          23       1.00      0.88      0.94       332\n",
            "\n",
            "    accuracy                           0.96      7172\n",
            "   macro avg       0.95      0.96      0.96      7172\n",
            "weighted avg       0.96      0.96      0.96      7172\n",
            "\n"
          ],
          "name": "stdout"
        }
      ]
    },
    {
      "cell_type": "code",
      "metadata": {
        "colab": {
          "base_uri": "https://localhost:8080/",
          "height": 706
        },
        "id": "VCVC-cLjRVfS",
        "outputId": "f6bd3ab7-e8a4-4643-d0dc-78d05f1d7b13"
      },
      "source": [
        "cm = confusion_matrix(y_true=y_test, y_pred = pred)\n",
        "plt.figure(figsize=(12,12))\n",
        "sb.heatmap(cm, annot=True, \n",
        "            linewidths=.5, square = True, cmap = 'Blues_r', fmt='0.4g');\n",
        "\n",
        "plt.ylabel('Actual label')\n",
        "plt.xlabel('Predicted label')"
      ],
      "execution_count": 220,
      "outputs": [
        {
          "output_type": "execute_result",
          "data": {
            "text/plain": [
              "Text(0.5, 145.31999999999996, 'Predicted label')"
            ]
          },
          "metadata": {
            "tags": []
          },
          "execution_count": 220
        },
        {
          "output_type": "display_data",
          "data": {
            "image/png": "[encoded data removed]",
            "text/plain": [
              "<Figure size 864x864 with 2 Axes>"
            ]
          },
          "metadata": {
            "tags": [],
            "needs_background": "light"
          }
        }
      ]
    },
    {
      "cell_type": "markdown",
      "metadata": {
        "id": "ivo66vwSU7Lc"
      },
      "source": [
        "**Training using SMOTE**"
      ]
    },
    {
      "cell_type": "code",
      "metadata": {
        "id": "BrinJPgxVCG-"
      },
      "source": [
        "x_test = np.load('/content/drive/MyDrive/Sign_language_google_collab/x_test_new.npy')\n",
        "x_train_SMOTE = np.load('/content/drive/MyDrive/Sign_language_google_collab/x_train_SMOTE.npy')\n",
        "y_test = np.load('/content/drive/MyDrive/Sign_language_google_collab/y_test_new.npy')\n",
        "y_train_SMOTE = np.load('/content/drive/MyDrive/Sign_language_google_collab/y_train_SMOTE.npy')"
      ],
      "execution_count": 25,
      "outputs": []
    },
    {
      "cell_type": "code",
      "metadata": {
        "id": "T20q6mhIVU8b"
      },
      "source": [
        "x_train_SMOTE,x_validate_SMOTE,y_train_SMOTE,y_validate_SMOTE = train_test_split(x_train_SMOTE,y_train_SMOTE, test_size = 0.2, random_state = 12345)"
      ],
      "execution_count": 26,
      "outputs": []
    },
    {
      "cell_type": "code",
      "metadata": {
        "id": "zx4cg4iLVhWs"
      },
      "source": [
        "x_train_SMOTE = x_train_SMOTE.reshape(-1,28,28,1)\n",
        "x_test = x_test.reshape(-1,28,28,1)\n",
        "x_validate_SMOTE = x_validate_SMOTE.reshape(-1,28,28,1)\n",
        "\n",
        "x_train_SMOTE = x_train_SMOTE/255.0\n",
        "x_test = x_test/255.0\n",
        "x_validate_SMOTE = x_validate_SMOTE/255.0\n",
        "\n",
        "label = LabelBinarizer()\n",
        "y_train_SMOTE = label.fit_transform(y_train_SMOTE)\n",
        "y_test = label.fit_transform(y_test)\n",
        "y_validate_SMOTE = label.fit_transform(y_validate_SMOTE)\n"
      ],
      "execution_count": 27,
      "outputs": []
    },
    {
      "cell_type": "code",
      "metadata": {
        "colab": {
          "base_uri": "https://localhost:8080/"
        },
        "id": "arZUB4rHVyl5",
        "outputId": "361a3948-4da9-4957-b419-bc00ab8b6c5b"
      },
      "source": [
        "model = Sequential()\n",
        "\n",
        "model.add(Conv2D(32, (3, 3), input_shape = (28,28,1), activation='relu'))\n",
        "model.add(MaxPooling2D(pool_size = (2, 2)))\n",
        "model.add(Dropout(0.25))\n",
        "\n",
        "model.add(Conv2D(64, (3, 3),activation='relu'))\n",
        "model.add(MaxPooling2D(pool_size = (2, 2)))\n",
        "model.add(Dropout(0.25))\n",
        "\n",
        "model.add(Conv2D(128, (3, 3), activation='relu'))\n",
        "model.add(MaxPooling2D(pool_size = (2, 2)))\n",
        "model.add(Dropout(0.25))\n",
        "\n",
        "model.add(Flatten())\n",
        "model.add(Dense(units = 512, activation = 'relu'))\n",
        "model.add(Dropout(0.25))\n",
        "model.add(Dense(units = 24, activation = 'softmax'))\n",
        "\n",
        "model.summary()"
      ],
      "execution_count": 28,
      "outputs": [
        {
          "output_type": "stream",
          "text": [
            "Model: \"sequential\"\n",
            "_________________________________________________________________\n",
            "Layer (type)                 Output Shape              Param #   \n",
            "=================================================================\n",
            "conv2d (Conv2D)              (None, 26, 26, 32)        320       \n",
            "_________________________________________________________________\n",
            "max_pooling2d (MaxPooling2D) (None, 13, 13, 32)        0         \n",
            "_________________________________________________________________\n",
            "dropout (Dropout)            (None, 13, 13, 32)        0         \n",
            "_________________________________________________________________\n",
            "conv2d_1 (Conv2D)            (None, 11, 11, 64)        18496     \n",
            "_________________________________________________________________\n",
            "max_pooling2d_1 (MaxPooling2 (None, 5, 5, 64)          0         \n",
            "_________________________________________________________________\n",
            "dropout_1 (Dropout)          (None, 5, 5, 64)          0         \n",
            "_________________________________________________________________\n",
            "conv2d_2 (Conv2D)            (None, 3, 3, 128)         73856     \n",
            "_________________________________________________________________\n",
            "max_pooling2d_2 (MaxPooling2 (None, 1, 1, 128)         0         \n",
            "_________________________________________________________________\n",
            "dropout_2 (Dropout)          (None, 1, 1, 128)         0         \n",
            "_________________________________________________________________\n",
            "flatten (Flatten)            (None, 128)               0         \n",
            "_________________________________________________________________\n",
            "dense (Dense)                (None, 512)               66048     \n",
            "_________________________________________________________________\n",
            "dropout_3 (Dropout)          (None, 512)               0         \n",
            "_________________________________________________________________\n",
            "dense_1 (Dense)              (None, 24)                12312     \n",
            "=================================================================\n",
            "Total params: 171,032\n",
            "Trainable params: 171,032\n",
            "Non-trainable params: 0\n",
            "_________________________________________________________________\n"
          ],
          "name": "stdout"
        }
      ]
    },
    {
      "cell_type": "code",
      "metadata": {
        "id": "9CiOm-w3V5gm"
      },
      "source": [
        "model.compile(loss ='categorical_crossentropy', optimizer='adam' ,metrics =['accuracy'])"
      ],
      "execution_count": 29,
      "outputs": []
    },
    {
      "cell_type": "code",
      "metadata": {
        "id": "s3Nhn4nwWDJi"
      },
      "source": [
        "checkpoint = ModelCheckpoint(\"/content/drive/MyDrive/Sign_language_google_collab/model_weights_SMOTE.h5\", monitor='val_accuracy',\n",
        "                             save_weights_only=True, mode='max', verbose=1)\n",
        "\n",
        "callbacks = [PlotLossesKerasTF(),checkpoint]"
      ],
      "execution_count": 30,
      "outputs": []
    },
    {
      "cell_type": "code",
      "metadata": {
        "colab": {
          "base_uri": "https://localhost:8080/",
          "height": 719
        },
        "id": "MtQCZXqTWIQe",
        "outputId": "53dbd002-8b0b-4953-9b89-45b02fa18c61"
      },
      "source": [
        "history = model.fit(x_train_SMOTE, y_train_SMOTE, batch_size = 512, epochs = 50, verbose = 1, validation_data = (x_validate_SMOTE, y_validate_SMOTE),callbacks=callbacks)"
      ],
      "execution_count": 31,
      "outputs": [
        {
          "output_type": "display_data",
          "data": {
            "image/png": "[encoded data removed]",
            "text/plain": [
              "<Figure size 864x576 with 2 Axes>"
            ]
          },
          "metadata": {
            "tags": [],
            "needs_background": "light"
          }
        },
        {
          "output_type": "stream",
          "text": [
            "accuracy\n",
            "\ttraining         \t (min:    0.065, max:    0.992, cur:    0.992)\n",
            "\tvalidation       \t (min:    0.107, max:    1.000, cur:    1.000)\n",
            "Loss\n",
            "\ttraining         \t (min:    0.028, max:    3.138, cur:    0.028)\n",
            "\tvalidation       \t (min:    0.000, max:    2.905, cur:    0.000)\n",
            "\n",
            "Epoch 00050: saving model to /content/drive/MyDrive/Sign_language_google_collab/model_weights_SMOTE.h5\n"
          ],
          "name": "stdout"
        }
      ]
    },
    {
      "cell_type": "code",
      "metadata": {
        "colab": {
          "base_uri": "https://localhost:8080/"
        },
        "id": "edtRDSplWzzf",
        "outputId": "dab89e29-e638-45fb-9c6d-b198396f6e4a"
      },
      "source": [
        "model.evaluate(x_test,y_test,verbose=0)"
      ],
      "execution_count": 32,
      "outputs": [
        {
          "output_type": "execute_result",
          "data": {
            "text/plain": [
              "[0.0003804017324000597, 1.0]"
            ]
          },
          "metadata": {
            "tags": []
          },
          "execution_count": 32
        }
      ]
    },
    {
      "cell_type": "code",
      "metadata": {
        "id": "J969IKKpW5EE"
      },
      "source": [
        "y_test=np.argmax(y_test, axis=1)\n",
        "pred = model.predict_classes(x_test)"
      ],
      "execution_count": 33,
      "outputs": []
    },
    {
      "cell_type": "code",
      "metadata": {
        "colab": {
          "base_uri": "https://localhost:8080/"
        },
        "id": "dnBl8ky9XBbE",
        "outputId": "ffe2c670-d16e-4771-b555-6a4cb12b4297"
      },
      "source": [
        "print(classification_report(y_test,pred))"
      ],
      "execution_count": 34,
      "outputs": [
        {
          "output_type": "stream",
          "text": [
            "              precision    recall  f1-score   support\n",
            "\n",
            "           0       1.00      1.00      1.00       292\n",
            "           1       1.00      1.00      1.00       288\n",
            "           2       1.00      1.00      1.00       291\n",
            "           3       1.00      1.00      1.00       288\n",
            "           4       1.00      1.00      1.00       291\n",
            "           5       1.00      1.00      1.00       290\n",
            "           6       1.00      1.00      1.00       288\n",
            "           7       1.00      1.00      1.00       290\n",
            "           8       1.00      1.00      1.00       290\n",
            "           9       1.00      1.00      1.00       289\n",
            "          10       1.00      1.00      1.00       290\n",
            "          11       1.00      1.00      1.00       290\n",
            "          12       1.00      1.00      1.00       288\n",
            "          13       1.00      1.00      1.00       288\n",
            "          14       1.00      1.00      1.00       287\n",
            "          15       1.00      1.00      1.00       289\n",
            "          16       1.00      1.00      1.00       288\n",
            "          17       1.00      1.00      1.00       289\n",
            "          18       1.00      1.00      1.00       287\n",
            "          19       1.00      1.00      1.00       285\n",
            "          20       1.00      1.00      1.00       286\n",
            "          21       1.00      1.00      1.00       286\n",
            "          22       1.00      1.00      1.00       286\n",
            "          23       1.00      1.00      1.00       290\n",
            "\n",
            "    accuracy                           1.00      6926\n",
            "   macro avg       1.00      1.00      1.00      6926\n",
            "weighted avg       1.00      1.00      1.00      6926\n",
            "\n"
          ],
          "name": "stdout"
        }
      ]
    },
    {
      "cell_type": "code",
      "metadata": {
        "colab": {
          "base_uri": "https://localhost:8080/",
          "height": 706
        },
        "id": "yi6p2EULXEXb",
        "outputId": "37be54f6-7ef6-4d3b-e9d1-0f9726014f90"
      },
      "source": [
        "cm = confusion_matrix(y_true=y_test, y_pred = pred)\n",
        "plt.figure(figsize=(12,12))\n",
        "sb.heatmap(cm, annot=True, \n",
        "            linewidths=.5, square = True, cmap = 'Blues_r', fmt='0.4g');\n",
        "\n",
        "plt.ylabel('Actual label')\n",
        "plt.xlabel('Predicted label')"
      ],
      "execution_count": 35,
      "outputs": [
        {
          "output_type": "execute_result",
          "data": {
            "text/plain": [
              "Text(0.5, 145.31999999999996, 'Predicted label')"
            ]
          },
          "metadata": {
            "tags": []
          },
          "execution_count": 35
        },
        {
          "output_type": "display_data",
          "data": {
            "image/png": "[encoded data removed]",
            "text/plain": [
              "<Figure size 864x864 with 2 Axes>"
            ]
          },
          "metadata": {
            "tags": [],
            "needs_background": "light"
          }
        }
      ]
    }
  ]
}