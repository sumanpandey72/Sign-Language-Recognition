{
  "nbformat": 4,
  "nbformat_minor": 0,
  "metadata": {
    "colab": {
      "name": "data.ipynb",
      "provenance": [],
      "collapsed_sections": []
    },
    "kernelspec": {
      "name": "python3",
      "display_name": "Python 3"
    }
  },
  "cells": [
    {
      "cell_type": "code",
      "metadata": {
        "id": "wr2I5AfmPQ1N"
      },
      "source": [
        "import pandas as pd\r\n",
        "import numpy as np\r\n",
        "import os\r\n",
        "from PIL import Image"
      ],
      "execution_count": null,
      "outputs": []
    },
    {
      "cell_type": "code",
      "metadata": {
        "id": "r05LzE7wQ0p4"
      },
      "source": [
        "data = pd.read_csv('/content/drive/MyDrive/Sign_Language_Recog_Project/data/Dataset/Training/A.csv')"
      ],
      "execution_count": null,
      "outputs": []
    },
    {
      "cell_type": "code",
      "metadata": {
        "colab": {
          "base_uri": "https://localhost:8080/"
        },
        "id": "VnFZbasYRwuJ",
        "outputId": "7fca308b-6e1f-4d84-cb94-b7083fa6c765"
      },
      "source": [
        "print(data)"
      ],
      "execution_count": null,
      "outputs": [
        {
          "output_type": "stream",
          "text": [
            "      label  pixel1  pixel2  pixel3  ...  pixel781  pixel782  pixel783  pixel784\n",
            "0         0     197     195     196  ...       212       213       213       213\n",
            "1         0     142     144     144  ...       182       182       183       183\n",
            "2         0     198     200     201  ...       100       100       101       100\n",
            "3         0     231     232     234  ...       255       255       255       255\n",
            "4         0     147     149     150  ...       167       133       135       140\n",
            "...     ...     ...     ...     ...  ...       ...       ...       ...       ...\n",
            "1121      0     156     159     161  ...         0         0         0         0\n",
            "1122      0     158     156     156  ...       203       203       202       202\n",
            "1123      0     165     167     169  ...       233       232       232       232\n",
            "1124      0     211     214     215  ...        82        81        81        79\n",
            "1125      0     181     182     181  ...       182       182       182       180\n",
            "\n",
            "[1126 rows x 785 columns]\n"
          ],
          "name": "stdout"
        }
      ]
    },
    {
      "cell_type": "code",
      "metadata": {
        "id": "TmxuJ9bRQNZc"
      },
      "source": [
        "arr = ['A','B','C','D','E','F','G','H','I','J','K','L','M','N','O','P','Q','R','S','T','U','V','W','X','Y']"
      ],
      "execution_count": null,
      "outputs": []
    },
    {
      "cell_type": "code",
      "metadata": {
        "id": "rB8DZMd6P9Rf"
      },
      "source": [
        "for f in range(0,25):\r\n",
        "  os.mkdir(\"/content/drive/MyDrive/Sign_Language_Recog_Project/data/Dataset/Training/\"+arr[f]+\"/\")"
      ],
      "execution_count": null,
      "outputs": []
    },
    {
      "cell_type": "code",
      "metadata": {
        "id": "qtagN24TPtiV"
      },
      "source": [
        "label = 0\r\n",
        "for a in range(0,25):\r\n",
        "  data_train = pd.read_csv('/content/drive/MyDrive/Sign_Language_Recog_Project/data/Dataset/Training/'+arr[a]+'.csv')\r\n",
        "  dataFrame = data_train.query('label == '+ str(label))\r\n",
        "  label+=1\r\n",
        "  d=0\r\n",
        "  for i in range(0,len(dataFrame)):\r\n",
        "    d1 = dataFrame.iloc[i,1:].values\r\n",
        "    image_data = np.asarray(d1, dtype=np.uint8).reshape(28,28)\r\n",
        "    img = Image.fromarray(image_data)\r\n",
        "    img.save(\"/content/drive/MyDrive/Sign_Language_Recog_Project/data/Dataset/Training/\"+arr[a]+\"/img_%d.jpg\"%d, \"JPEG\")\r\n",
        "    d+=1"
      ],
      "execution_count": null,
      "outputs": []
    },
    {
      "cell_type": "code",
      "metadata": {
        "id": "0BBk0xD5U5Il"
      },
      "source": [
        "for g in range(0,25):\r\n",
        "  os.mkdir(\"/content/drive/MyDrive/Sign_Language_Recog_Project/data/Dataset/Test/\"+arr[g]+\"/\")"
      ],
      "execution_count": null,
      "outputs": []
    },
    {
      "cell_type": "code",
      "metadata": {
        "id": "4hgYzZ1_VbtJ"
      },
      "source": [
        "label = 0\r\n",
        "for a in range(0,25):\r\n",
        "  data_train = pd.read_csv('/content/drive/MyDrive/Sign_Language_Recog_Project/data/Dataset/Test/'+arr[a]+'.csv')\r\n",
        "  dataFrame = data_train.query('label == '+ str(label))\r\n",
        "  label+=1\r\n",
        "  d=0\r\n",
        "  for i in range(0,len(dataFrame)):\r\n",
        "    d1 = dataFrame.iloc[i,1:].values\r\n",
        "    image_data = np.asarray(d1, dtype=np.uint8).reshape(28,28)\r\n",
        "    img = Image.fromarray(image_data)\r\n",
        "    img.save(\"/content/drive/MyDrive/Sign_Language_Recog_Project/data/Dataset/Test/\"+arr[a]+\"/img_%d.jpg\"%d, \"JPEG\")\r\n",
        "    d+=1"
      ],
      "execution_count": null,
      "outputs": []
    },
    {
      "cell_type": "code",
      "metadata": {
        "colab": {
          "base_uri": "https://localhost:8080/"
        },
        "id": "K2qmea6iaDLc",
        "outputId": "81186c0e-35fb-4b87-c68e-2fe8b745fe21"
      },
      "source": [
        "for img_class in os.listdir(\"/content/drive/MyDrive/Sign_Language_Recog_Project/data/Dataset/Training/\"):\r\n",
        "    print(str(len(os.listdir(\"/content/drive/MyDrive/Sign_Language_Recog_Project/data/Dataset/Training/\" + img_class))) + \" \" + img_class + \" images\")"
      ],
      "execution_count": null,
      "outputs": [
        {
          "output_type": "stream",
          "text": [
            "1126 A images\n",
            "1010 B images\n",
            "1144 C images\n",
            "1196 D images\n",
            "957 E images\n",
            "1204 F images\n",
            "1090 G images\n",
            "1013 H images\n",
            "1162 I images\n",
            "0 J images\n",
            "1114 K images\n",
            "1241 L images\n",
            "1055 M images\n",
            "1151 N images\n",
            "1196 O images\n",
            "1088 P images\n",
            "1279 Q images\n",
            "1294 R images\n",
            "1199 S images\n",
            "1186 T images\n",
            "1161 U images\n",
            "1082 V images\n",
            "1225 W images\n",
            "1164 X images\n",
            "1118 Y images\n",
            "0 .ipynb_checkpoints images\n"
          ],
          "name": "stdout"
        }
      ]
    },
    {
      "cell_type": "code",
      "metadata": {
        "colab": {
          "base_uri": "https://localhost:8080/"
        },
        "id": "Bg1GIuW3aJnx",
        "outputId": "aae0544e-49ea-4da2-f2ea-ad90403c778f"
      },
      "source": [
        "for img_class in os.listdir(\"/content/drive/MyDrive/Sign_Language_Recog_Project/data/Dataset/Test/\"):\r\n",
        "    print(str(len(os.listdir(\"/content/drive/MyDrive/Sign_Language_Recog_Project/data/Dataset/Test/\" + img_class))) + \" \" + img_class + \" images\")"
      ],
      "execution_count": null,
      "outputs": [
        {
          "output_type": "stream",
          "text": [
            "331 A images\n",
            "432 B images\n",
            "310 C images\n",
            "245 D images\n",
            "498 E images\n",
            "247 F images\n",
            "348 G images\n",
            "436 H images\n",
            "288 I images\n",
            "0 J images\n",
            "331 K images\n",
            "209 L images\n",
            "394 M images\n",
            "291 N images\n",
            "246 O images\n",
            "347 P images\n",
            "164 Q images\n",
            "144 R images\n",
            "246 S images\n",
            "248 T images\n",
            "266 U images\n",
            "346 V images\n",
            "206 W images\n",
            "267 X images\n",
            "332 Y images\n",
            "0 .ipynb_checkpoints images\n"
          ],
          "name": "stdout"
        }
      ]
    }
  ]
}